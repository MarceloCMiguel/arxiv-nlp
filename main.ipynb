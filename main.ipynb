{
 "cells": [
  {
   "cell_type": "code",
   "execution_count": 117,
   "metadata": {},
   "outputs": [],
   "source": [
    "# !pip install transformers"
   ]
  },
  {
   "cell_type": "code",
   "execution_count": 118,
   "metadata": {},
   "outputs": [
    {
     "name": "stderr",
     "output_type": "stream",
     "text": [
      "[nltk_data] Downloading package stopwords to\n",
      "[nltk_data]     /home/marcelo/nltk_data...\n",
      "[nltk_data]   Package stopwords is already up-to-date!\n"
     ]
    }
   ],
   "source": [
    "import pandas as pd\n",
    "import time\n",
    "import numpy as np\n",
    "import matplotlib.pyplot as plt\n",
    "import json\n",
    "import os\n",
    "import nltk\n",
    "from nltk.corpus import stopwords\n",
    "from nltk.tokenize import word_tokenize\n",
    "nltk.download('stopwords')\n",
    "\n",
    "from sklearn.feature_extraction.text import CountVectorizer\n",
    "from sklearn.naive_bayes import MultinomialNB\n",
    "from sklearn.model_selection import train_test_split\n",
    "from sklearn.metrics import accuracy_score\n",
    "from sklearn.pipeline import Pipeline\n",
    "# import joblib\n",
    "import joblib"
   ]
  },
  {
   "cell_type": "code",
   "execution_count": 119,
   "metadata": {},
   "outputs": [],
   "source": [
    "# df_arxiv = pd.read_json('./dataset/arxiv-metadata-oai-snapshot.json', lines=True)\n",
    "# read the first 5 lines\n",
    "# df_arxiv = pd.read_json('./dataset/arxiv-metadata-oai-snapshot.json', lines=True, nrows=5000)\n"
   ]
  },
  {
   "cell_type": "code",
   "execution_count": 120,
   "metadata": {},
   "outputs": [],
   "source": [
    "# Initialize an empty dataframe to store the processed data\n",
    "df_processed = pd.DataFrame()\n",
    "\n",
    "# Define the batch size\n",
    "batch_size = 30000\n",
    "\n",
    "# Define the total number of rows in the dataset\n",
    "total_rows = 0\n",
    "\n",
    "# Iterate over the dataset in batches\n",
    "for chunk in pd.read_json('./dataset/arxiv-metadata-oai-snapshot.json', lines=True, chunksize=batch_size):\n",
    "    # Perform data preprocessing operations on each chunk\n",
    "    chunk_processed = chunk.dropna(subset=['title','abstract', 'journal-ref'])[['title','abstract', 'journal-ref']]\n",
    "\n",
    "    # Concatenate the processed chunk to the main dataframe\n",
    "    df_processed = pd.concat([df_processed, chunk_processed], ignore_index=True)\n",
    "\n",
    "    # # Update the total number of rows processed\n",
    "    total_rows += len(chunk_processed)\n",
    "\n",
    "\n",
    "    # # Check if the desired number of rows has been reached\n",
    "    if total_rows >= batch_size*2:\n",
    "        break"
   ]
  },
  {
   "cell_type": "code",
   "execution_count": 121,
   "metadata": {},
   "outputs": [],
   "source": [
    "df_arxiv = df_processed\n",
    "df_arxiv['title_abstract'] = df_arxiv['title'] + ' ' + df_arxiv['abstract']\n",
    "del(df_processed)"
   ]
  },
  {
   "cell_type": "code",
   "execution_count": 122,
   "metadata": {},
   "outputs": [
    {
     "data": {
      "text/html": [
       "<div>\n",
       "<style scoped>\n",
       "    .dataframe tbody tr th:only-of-type {\n",
       "        vertical-align: middle;\n",
       "    }\n",
       "\n",
       "    .dataframe tbody tr th {\n",
       "        vertical-align: top;\n",
       "    }\n",
       "\n",
       "    .dataframe thead th {\n",
       "        text-align: right;\n",
       "    }\n",
       "</style>\n",
       "<table border=\"1\" class=\"dataframe\">\n",
       "  <thead>\n",
       "    <tr style=\"text-align: right;\">\n",
       "      <th></th>\n",
       "      <th>title</th>\n",
       "      <th>abstract</th>\n",
       "      <th>journal-ref</th>\n",
       "      <th>title_abstract</th>\n",
       "    </tr>\n",
       "  </thead>\n",
       "  <tbody>\n",
       "    <tr>\n",
       "      <th>0</th>\n",
       "      <td>Calculation of prompt diphoton production cros...</td>\n",
       "      <td>A fully differential calculation in perturba...</td>\n",
       "      <td>Phys.Rev.D76:013009,2007</td>\n",
       "      <td>Calculation of prompt diphoton production cros...</td>\n",
       "    </tr>\n",
       "    <tr>\n",
       "      <th>1</th>\n",
       "      <td>From dyadic $\\Lambda_{\\alpha}$ to $\\Lambda_{\\a...</td>\n",
       "      <td>In this paper we show how to compute the $\\L...</td>\n",
       "      <td>Illinois J. Math. 52 (2008) no.2, 681-689</td>\n",
       "      <td>From dyadic $\\Lambda_{\\alpha}$ to $\\Lambda_{\\a...</td>\n",
       "    </tr>\n",
       "    <tr>\n",
       "      <th>2</th>\n",
       "      <td>Polymer Quantum Mechanics and its Continuum Limit</td>\n",
       "      <td>A rather non-standard quantum representation...</td>\n",
       "      <td>Phys.Rev.D76:044016,2007</td>\n",
       "      <td>Polymer Quantum Mechanics and its Continuum Li...</td>\n",
       "    </tr>\n",
       "    <tr>\n",
       "      <th>3</th>\n",
       "      <td>Numerical solution of shock and ramp compressi...</td>\n",
       "      <td>A general formulation was developed to repre...</td>\n",
       "      <td>Journal of Applied Physics, vol 104, 073536 (2...</td>\n",
       "      <td>Numerical solution of shock and ramp compressi...</td>\n",
       "    </tr>\n",
       "    <tr>\n",
       "      <th>4</th>\n",
       "      <td>The Spitzer c2d Survey of Large, Nearby, Inste...</td>\n",
       "      <td>We discuss the results from the combined IRA...</td>\n",
       "      <td>Astrophys.J.663:1149-1173,2007</td>\n",
       "      <td>The Spitzer c2d Survey of Large, Nearby, Inste...</td>\n",
       "    </tr>\n",
       "    <tr>\n",
       "      <th>...</th>\n",
       "      <td>...</td>\n",
       "      <td>...</td>\n",
       "      <td>...</td>\n",
       "      <td>...</td>\n",
       "    </tr>\n",
       "    <tr>\n",
       "      <th>61054</th>\n",
       "      <td>The photon absorption edge in superconductors ...</td>\n",
       "      <td>Opening of a gap in the low-energy excitatio...</td>\n",
       "      <td>Phys. Rev. B 80, 205416 (2009)</td>\n",
       "      <td>The photon absorption edge in superconductors ...</td>\n",
       "    </tr>\n",
       "    <tr>\n",
       "      <th>61055</th>\n",
       "      <td>Cosmological Constant Behavior in DBI Theory</td>\n",
       "      <td>Cosmological constant behavior can be realiz...</td>\n",
       "      <td>Phys. Lett. B684:181-184,2010</td>\n",
       "      <td>Cosmological Constant Behavior in DBI Theory  ...</td>\n",
       "    </tr>\n",
       "    <tr>\n",
       "      <th>61056</th>\n",
       "      <td>Constraints on dark matter particles charged u...</td>\n",
       "      <td>In order to accommodate increasingly tighter...</td>\n",
       "      <td>JCAP 0906:023,2009</td>\n",
       "      <td>Constraints on dark matter particles charged u...</td>\n",
       "    </tr>\n",
       "    <tr>\n",
       "      <th>61057</th>\n",
       "      <td>Cosmological Constant, Classical \"Vacuum\" and ...</td>\n",
       "      <td>We show that Cosmological Constant (CC) is n...</td>\n",
       "      <td>Proceedings P.I.R.T Budapest, 4-6 September 20...</td>\n",
       "      <td>Cosmological Constant, Classical \"Vacuum\" and ...</td>\n",
       "    </tr>\n",
       "    <tr>\n",
       "      <th>61058</th>\n",
       "      <td>The Dual Origin of Stellar Halos</td>\n",
       "      <td>We investigate the formation of the stellar ...</td>\n",
       "      <td>Astrophys.J.702:1058-1067,2009</td>\n",
       "      <td>The Dual Origin of Stellar Halos   We investig...</td>\n",
       "    </tr>\n",
       "  </tbody>\n",
       "</table>\n",
       "<p>61059 rows × 4 columns</p>\n",
       "</div>"
      ],
      "text/plain": [
       "                                                   title  \\\n",
       "0      Calculation of prompt diphoton production cros...   \n",
       "1      From dyadic $\\Lambda_{\\alpha}$ to $\\Lambda_{\\a...   \n",
       "2      Polymer Quantum Mechanics and its Continuum Limit   \n",
       "3      Numerical solution of shock and ramp compressi...   \n",
       "4      The Spitzer c2d Survey of Large, Nearby, Inste...   \n",
       "...                                                  ...   \n",
       "61054  The photon absorption edge in superconductors ...   \n",
       "61055       Cosmological Constant Behavior in DBI Theory   \n",
       "61056  Constraints on dark matter particles charged u...   \n",
       "61057  Cosmological Constant, Classical \"Vacuum\" and ...   \n",
       "61058                   The Dual Origin of Stellar Halos   \n",
       "\n",
       "                                                abstract  \\\n",
       "0        A fully differential calculation in perturba...   \n",
       "1        In this paper we show how to compute the $\\L...   \n",
       "2        A rather non-standard quantum representation...   \n",
       "3        A general formulation was developed to repre...   \n",
       "4        We discuss the results from the combined IRA...   \n",
       "...                                                  ...   \n",
       "61054    Opening of a gap in the low-energy excitatio...   \n",
       "61055    Cosmological constant behavior can be realiz...   \n",
       "61056    In order to accommodate increasingly tighter...   \n",
       "61057    We show that Cosmological Constant (CC) is n...   \n",
       "61058    We investigate the formation of the stellar ...   \n",
       "\n",
       "                                             journal-ref  \\\n",
       "0                               Phys.Rev.D76:013009,2007   \n",
       "1              Illinois J. Math. 52 (2008) no.2, 681-689   \n",
       "2                               Phys.Rev.D76:044016,2007   \n",
       "3      Journal of Applied Physics, vol 104, 073536 (2...   \n",
       "4                         Astrophys.J.663:1149-1173,2007   \n",
       "...                                                  ...   \n",
       "61054                     Phys. Rev. B 80, 205416 (2009)   \n",
       "61055                      Phys. Lett. B684:181-184,2010   \n",
       "61056                                 JCAP 0906:023,2009   \n",
       "61057  Proceedings P.I.R.T Budapest, 4-6 September 20...   \n",
       "61058                     Astrophys.J.702:1058-1067,2009   \n",
       "\n",
       "                                          title_abstract  \n",
       "0      Calculation of prompt diphoton production cros...  \n",
       "1      From dyadic $\\Lambda_{\\alpha}$ to $\\Lambda_{\\a...  \n",
       "2      Polymer Quantum Mechanics and its Continuum Li...  \n",
       "3      Numerical solution of shock and ramp compressi...  \n",
       "4      The Spitzer c2d Survey of Large, Nearby, Inste...  \n",
       "...                                                  ...  \n",
       "61054  The photon absorption edge in superconductors ...  \n",
       "61055  Cosmological Constant Behavior in DBI Theory  ...  \n",
       "61056  Constraints on dark matter particles charged u...  \n",
       "61057  Cosmological Constant, Classical \"Vacuum\" and ...  \n",
       "61058  The Dual Origin of Stellar Halos   We investig...  \n",
       "\n",
       "[61059 rows x 4 columns]"
      ]
     },
     "execution_count": 122,
     "metadata": {},
     "output_type": "execute_result"
    }
   ],
   "source": [
    "df_arxiv"
   ]
  },
  {
   "cell_type": "code",
   "execution_count": 123,
   "metadata": {},
   "outputs": [
    {
     "name": "stdout",
     "output_type": "stream",
     "text": [
      "<class 'pandas.core.frame.DataFrame'>\n",
      "RangeIndex: 61059 entries, 0 to 61058\n",
      "Data columns (total 4 columns):\n",
      " #   Column          Non-Null Count  Dtype \n",
      "---  ------          --------------  ----- \n",
      " 0   title           61059 non-null  object\n",
      " 1   abstract        61059 non-null  object\n",
      " 2   journal-ref     61059 non-null  object\n",
      " 3   title_abstract  61059 non-null  object\n",
      "dtypes: object(4)\n",
      "memory usage: 1.9+ MB\n"
     ]
    }
   ],
   "source": [
    "df_arxiv.info()"
   ]
  },
  {
   "cell_type": "code",
   "execution_count": 124,
   "metadata": {},
   "outputs": [
    {
     "data": {
      "text/plain": [
       "Dans Design, Automation and Test in Europe - DATE'05, Munich :\\n  Allemagne (2005)                                               128\n",
       "Dans Symposium on Design, Test, Integration and Packaging of\\n  MEMS/MOEMS - DTIP 2008, Nice : France (2008)                      77\n",
       "Dans Symposium on Design, Test, Integration and Packaging of\\n  MEMS/MOEMS - DTIP 2007, Stresa, lago Maggiore : Italie (2007)     66\n",
       "Dans Symposium on Design, Test, Integration and Packaging of\\n  MEMS/MOEMS - DTIP 2006, Stresa, Lago Maggiore : Italie (2006)     49\n",
       "Dans Design, Automation and Test in Europe | Designers'Forum -\\n  DATE'05, Munich : Allemagne (2005)                              41\n",
       "                                                                                                                                ... \n",
       "Electronic Journal of Statistics 2008, Vol. 2, 40-62                                                                               1\n",
       "Oriental Journal of Physics 3(1), 1-10 (2011)                                                                                      1\n",
       "Journal of Inequalities and Applications, vol. 2008, Article ID\\n  576876, 13 pages, 2008                                          1\n",
       "Phys. Rev. A 77, 056302 (2008)                                                                                                     1\n",
       "Astrophys.J.702:1058-1067,2009                                                                                                     1\n",
       "Name: journal-ref, Length: 60446, dtype: int64"
      ]
     },
     "execution_count": 124,
     "metadata": {},
     "output_type": "execute_result"
    }
   ],
   "source": [
    "df_arxiv[\"journal-ref\"].value_counts()"
   ]
  },
  {
   "cell_type": "code",
   "execution_count": 125,
   "metadata": {},
   "outputs": [],
   "source": [
    "import re\n",
    "import pandas as pd\n",
    "stop_words = set(stopwords.words('english'))\n",
    "\n",
    "def remove_stopwords(text):\n",
    "    tokens = word_tokenize(text)\n",
    "    filtered_tokens = [word for word in tokens if word.lower() not in stop_words]\n",
    "    filtered_text = ' '.join(filtered_tokens)\n",
    "    return filtered_text\n",
    "\n",
    "def remove_numbers_and_special_chars(string):\n",
    "    if pd.isnull(string):\n",
    "        return string\n",
    "    output = re.sub(r'[\\d()\\-\\:,]+', '', string)\n",
    "    output = re.sub(r'  ', ' ', output)\n",
    "    output = output.strip()\n",
    "    return output\n",
    "\n",
    "df_arxiv['title_abstract'] = df_arxiv['title_abstract'].apply(remove_stopwords)\n",
    "\n",
    "df_arxiv['journal-ref'] = df_arxiv['journal-ref'].apply(remove_stopwords)\n",
    "df_arxiv['journal-ref-no-numbers'] = df_arxiv['journal-ref'].apply(remove_numbers_and_special_chars)"
   ]
  },
  {
   "cell_type": "code",
   "execution_count": 126,
   "metadata": {},
   "outputs": [
    {
     "data": {
      "text/plain": [
       "Phys.Rev.D                                                                                               5149\n",
       "JHEP                                                                                                     2609\n",
       "Phys . Rev . B                                                                                           2441\n",
       "Astrophys.J.                                                                                             2021\n",
       "Phys . Rev . Lett .                                                                                      1916\n",
       "                                                                                                         ... \n",
       "Proceedings th IEEE ICACT  Volume February  Phoenix Park Korea  pp .                                        1\n",
       "Proceedings IEEE International Conference Consumer Electronics IEEE ICCE  January  Las Vegas USA pp .       1\n",
       "Proceedings th IEEE ICACT  Volume February   Phoenix Park Korea pp .                                        1\n",
       "Tech . Digest th Microoptics Conference MOC Postdeadline papers PD p.p .                                    1\n",
       "Proceedings P.I.R.T Budapest  September  p                                                                  1\n",
       "Name: journal-ref-no-numbers, Length: 12762, dtype: int64"
      ]
     },
     "execution_count": 126,
     "metadata": {},
     "output_type": "execute_result"
    }
   ],
   "source": [
    "df_arxiv['journal-ref-no-numbers'].value_counts()"
   ]
  },
  {
   "cell_type": "code",
   "execution_count": 127,
   "metadata": {},
   "outputs": [],
   "source": [
    "from fuzzywuzzy import fuzz\n",
    "import pandas as pd\n",
    "\n",
    "def group_journal_references(df, ref_column, threshold=80, group_column='Group'):\n",
    "    \"\"\"\n",
    "    Groups similar journal references in a pandas DataFrame based on a reference column.\n",
    "\n",
    "    Args:\n",
    "        df (pandas.DataFrame): DataFrame containing the journal references.\n",
    "        ref_column (str): Name of the column containing the journal references.\n",
    "        threshold (int, optional): Similarity threshold for fuzzy matching. Defaults to 80.\n",
    "        group_column (str, optional): Name of the new column to store the group names. Defaults to 'Group'.\n",
    "\n",
    "    Returns:\n",
    "        pandas.DataFrame: DataFrame with the new group column added.\n",
    "    \"\"\"\n",
    "    groups = []\n",
    "    new_column = []\n",
    "\n",
    "    for ref in df[ref_column]:\n",
    "        found_group = False\n",
    "\n",
    "        for group in groups:\n",
    "            if ref in group:\n",
    "                new_column.append(group[0])\n",
    "                found_group = True\n",
    "                break\n",
    "\n",
    "        if not found_group:\n",
    "            for group in groups:\n",
    "                for ref_in_group in group:\n",
    "                    similarity_score = fuzz.ratio(ref, ref_in_group)\n",
    "                    # similarity_score = SequenceMatcher(None, ref, ref_in_group).ratio()\n",
    "                    if similarity_score >= threshold:\n",
    "                        group.append(ref)\n",
    "                        new_column.append(group[0])  # Store the group name in the new column\n",
    "                        found_group = True\n",
    "                        break\n",
    "                if found_group:\n",
    "                    break\n",
    "\n",
    "        if not found_group:\n",
    "            groups.append([ref])\n",
    "            new_column.append(ref)  # Store the reference itself as the group name\n",
    "\n",
    "    df[group_column] = new_column\n",
    "    return df\n",
    "\n",
    "df_arxiv = group_journal_references(df_arxiv, 'journal-ref-no-numbers', threshold=80, group_column='Group')"
   ]
  },
  {
   "cell_type": "code",
   "execution_count": 128,
   "metadata": {},
   "outputs": [
    {
     "name": "stdout",
     "output_type": "stream",
     "text": [
      "6086\n"
     ]
    }
   ],
   "source": [
    "print(len(df_arxiv['Group'].unique()))"
   ]
  },
  {
   "cell_type": "code",
   "execution_count": 129,
   "metadata": {},
   "outputs": [
    {
     "name": "stdout",
     "output_type": "stream",
     "text": [
      "61059\n"
     ]
    }
   ],
   "source": [
    "print(len(df_arxiv))"
   ]
  },
  {
   "cell_type": "code",
   "execution_count": 130,
   "metadata": {},
   "outputs": [
    {
     "data": {
      "text/plain": [
       "Phys.Rev.D                                                                                       0.183691\n",
       "Phys . Rev . Lett .                                                                              0.048150\n",
       "JHEP                                                                                             0.042778\n",
       "Phys . Rev . B                                                                                   0.041878\n",
       "Astrophys.J.                                                                                     0.041173\n",
       "Phys.Lett.B                                                                                      0.026646\n",
       "AIP Conf.Proc.                                                                                   0.015854\n",
       "Nucl.Phys.A                                                                                      0.015706\n",
       "Eur . Phys . J . B                                                                               0.015149\n",
       "Class.Quant.Grav. SS                                                                             0.013708\n",
       "Int.J.Mod.Phys.A                                                                                 0.013528\n",
       "Physical Review B                                                                                0.013299\n",
       "JCAP                                                                                             0.011006\n",
       "Mon.Not.Roy.Astron.Soc.                                                                          0.010924\n",
       "J . Math . Phys .    .                                                                           0.010793\n",
       "New J. Phys .                                                                                    0.008844\n",
       "J. Phys . Math . Theor .   October                                                               0.008320\n",
       "Commun.Theor.Phys.                                                                               0.008009\n",
       "Annals Statistics  Vol .  . A                                                                    0.006895\n",
       "Physica B                                                                                        0.006748\n",
       "J.Phys.G S                                                                                       0.006486\n",
       "J.Phys.Conf.Ser.                                                                                 0.006453\n",
       "J.Phys.A                                                                                         0.006109\n",
       "J . Phys . Condens . Matter                                                                      0.005896\n",
       "Astron.Astrophys .                                                                               0.005863\n",
       "PoS LAT                                                                                          0.005126\n",
       "Chem . Phys . Lett .                                                                             0.004848\n",
       "Annals Applied Probability  Vol .  .                                                             0.004831\n",
       "Trans . Amer . Math . Soc .                                                                      0.004537\n",
       "J. Stat . Mech .  P                                                                              0.004242\n",
       "J. Chem . Phys .                                                                                 0.004225\n",
       "Astron.J.                                                                                        0.004029\n",
       "Prog.Theor.Phys.                                                                                 0.004013\n",
       "Nucl.Instrum.Meth.A                                                                              0.003980\n",
       "ActaPhys.Polon.B                                                                                 0.003980\n",
       "Gen.Rel.Grav.                                                                                    0.003718\n",
       "Nucl.Phys.Proc.Suppl.                                                                            0.003685\n",
       "PoS LATTICE                                                                                      0.003194\n",
       "Dans Symposium Design Test Integration Packaging MEMS/MOEMS DTIP  Stresa Lago Maggiore Italie    0.003161\n",
       "J. Algebra    .                                                                                  0.002997\n",
       "Eur.Phys.J.A                                                                                     0.002948\n",
       "SIGMA    pages                                                                                   0.002948\n",
       "Phys.Rev.C ; Erratumibid.C                                                                       0.002817\n",
       "Dans Design Automation Test Europe DATE' Munich Allemagne                                        0.002768\n",
       "EPL                                                                                              0.002670\n",
       "J. Phys . Soc . Jpn .                                                                            0.002653\n",
       "Annals Phys.                                                                                     0.002588\n",
       "Algebr . Geom . Topol .                                                                          0.002555\n",
       "Journal Mathematical Physics                                                                     0.002506\n",
       "Astrophys.Space Sci.                                                                             0.002457\n",
       "Name: Group, dtype: float64"
      ]
     },
     "execution_count": 130,
     "metadata": {},
     "output_type": "execute_result"
    }
   ],
   "source": [
    "df_arxiv['Group'].value_counts()\n",
    "\n",
    "# count the percentage of each group\n",
    "df_arxiv['Group'].value_counts(normalize=True)[:50]\n",
    "\n",
    "# count the number of group with 1 reference\n",
    "# (df_arxiv['Group'].value_counts() == 1).sum()\n"
   ]
  },
  {
   "cell_type": "code",
   "execution_count": 131,
   "metadata": {},
   "outputs": [
    {
     "data": {
      "text/plain": [
       "<AxesSubplot: >"
      ]
     },
     "execution_count": 131,
     "metadata": {},
     "output_type": "execute_result"
    },
    {
     "data": {
      "image/png": "[encoded data removed]",
      "text/plain": [
       "<Figure size 2000x3000 with 1 Axes>"
      ]
     },
     "metadata": {},
     "output_type": "display_data"
    }
   ],
   "source": [
    "# make a graph with the value counts\n",
    "df_arxiv['Group'].value_counts()[:30].plot(kind='bar', figsize=(20, 30))"
   ]
  },
  {
   "cell_type": "code",
   "execution_count": 132,
   "metadata": {},
   "outputs": [],
   "source": [
    "import pandas as pd\n",
    "\n",
    "# Select the top 30 groups\n",
    "top_30_groups = df_arxiv['Group'].value_counts().nlargest(30).index\n",
    "df_arxiv_top30 = df_arxiv[df_arxiv['Group'].isin(top_30_groups)].reset_index(drop=True)\n",
    "\n",
    "# Find the group with the fewest rows\n",
    "min_group_count = df_arxiv_top30['Group'].value_counts().min()\n",
    "\n",
    "# Limit all groups to have the same number of rows\n",
    "df_arxiv_top30_normalized = df_arxiv_top30.groupby('Group').apply(lambda x: x.sample(n=min_group_count)).reset_index(drop=True)\n"
   ]
  },
  {
   "cell_type": "code",
   "execution_count": 133,
   "metadata": {},
   "outputs": [
    {
     "data": {
      "text/plain": [
       "AIP Conf.Proc.                          259\n",
       "Annals Applied Probability  Vol .  .    259\n",
       "PoS LAT                                 259\n",
       "Physical Review B                       259\n",
       "Physica B                               259\n",
       "Phys.Rev.D                              259\n",
       "Phys.Lett.B                             259\n",
       "Phys . Rev . Lett .                     259\n",
       "Phys . Rev . B                          259\n",
       "Nucl.Phys.A                             259\n",
       "New J. Phys .                           259\n",
       "Mon.Not.Roy.Astron.Soc.                 259\n",
       "JHEP                                    259\n",
       "JCAP                                    259\n",
       "J.Phys.G S                              259\n",
       "J.Phys.Conf.Ser.                        259\n",
       "J.Phys.A                                259\n",
       "J. Stat . Mech .  P                     259\n",
       "J. Phys . Math . Theor .   October      259\n",
       "J . Phys . Condens . Matter             259\n",
       "J . Math . Phys .    .                  259\n",
       "Int.J.Mod.Phys.A                        259\n",
       "Eur . Phys . J . B                      259\n",
       "Commun.Theor.Phys.                      259\n",
       "Class.Quant.Grav. SS                    259\n",
       "Chem . Phys . Lett .                    259\n",
       "Astrophys.J.                            259\n",
       "Astron.Astrophys .                      259\n",
       "Annals Statistics  Vol .  . A           259\n",
       "Trans . Amer . Math . Soc .             259\n",
       "Name: Group, dtype: int64"
      ]
     },
     "execution_count": 133,
     "metadata": {},
     "output_type": "execute_result"
    }
   ],
   "source": [
    "df_arxiv_top30_normalized['Group'].value_counts()"
   ]
  },
  {
   "cell_type": "code",
   "execution_count": 134,
   "metadata": {},
   "outputs": [],
   "source": [
    "NUMBER_OF_GROUPS_TO_PREDICT = 5\n"
   ]
  },
  {
   "cell_type": "code",
   "execution_count": 135,
   "metadata": {},
   "outputs": [],
   "source": [
    "classes = df_arxiv_top30_normalized['Group'].unique()"
   ]
  },
  {
   "cell_type": "code",
   "execution_count": 136,
   "metadata": {},
   "outputs": [
    {
     "data": {
      "text/plain": [
       "array(['AIP Conf.Proc.', 'Annals Applied Probability  Vol .  .',\n",
       "       'Annals Statistics  Vol .  . A', 'Astron.Astrophys .',\n",
       "       'Astrophys.J.', 'Chem . Phys . Lett .', 'Class.Quant.Grav. SS',\n",
       "       'Commun.Theor.Phys.', 'Eur . Phys . J . B', 'Int.J.Mod.Phys.A',\n",
       "       'J . Math . Phys .    .', 'J . Phys . Condens . Matter',\n",
       "       'J. Phys . Math . Theor .   October', 'J. Stat . Mech .  P',\n",
       "       'J.Phys.A', 'J.Phys.Conf.Ser.', 'J.Phys.G S', 'JCAP', 'JHEP',\n",
       "       'Mon.Not.Roy.Astron.Soc.', 'New J. Phys .', 'Nucl.Phys.A',\n",
       "       'Phys . Rev . B', 'Phys . Rev . Lett .', 'Phys.Lett.B',\n",
       "       'Phys.Rev.D', 'Physica B', 'Physical Review B', 'PoS LAT',\n",
       "       'Trans . Amer . Math . Soc .'], dtype=object)"
      ]
     },
     "execution_count": 136,
     "metadata": {},
     "output_type": "execute_result"
    }
   ],
   "source": [
    "classes"
   ]
  },
  {
   "attachments": {},
   "cell_type": "markdown",
   "metadata": {},
   "source": [
    "## Naive Bayes"
   ]
  },
  {
   "cell_type": "code",
   "execution_count": 137,
   "metadata": {},
   "outputs": [],
   "source": [
    "from sklearn.model_selection import cross_val_score"
   ]
  },
  {
   "cell_type": "code",
   "execution_count": 138,
   "metadata": {},
   "outputs": [],
   "source": [
    "X_train, X_test, y_train, y_test = train_test_split(df_arxiv_top30_normalized['title_abstract'], df_arxiv_top30_normalized['Group'], test_size=0.2, random_state=42)"
   ]
  },
  {
   "cell_type": "code",
   "execution_count": 139,
   "metadata": {},
   "outputs": [
    {
     "name": "stdout",
     "output_type": "stream",
     "text": [
      "0.3918918918918919\n",
      "top 5 accuracy:  0.7696267696267697\n"
     ]
    },
    {
     "data": {
      "text/plain": [
       "['nb_classifier.pkl']"
      ]
     },
     "execution_count": 139,
     "metadata": {},
     "output_type": "execute_result"
    }
   ],
   "source": [
    "\n",
    "\n",
    "\n",
    "classificador = Pipeline([\n",
    "                        ('meu_vetorizador', CountVectorizer(stop_words='english')),\n",
    "                        ('meu_classificador', MultinomialNB())\n",
    "                        ])\n",
    "# Split the data into training and testing sets\n",
    "\n",
    "\n",
    "classificador.fit(X_train,y_train)\n",
    "\n",
    "y_pred = classificador.predict(X_test)\n",
    "acc = accuracy_score(y_pred,y_test)\n",
    "print(acc)\n",
    "naive_bayes_accuracy = acc\n",
    "\n",
    "probabilities = classificador.predict_proba(X_test)\n",
    "\n",
    "# Get the top five most probable classes for each sample\n",
    "top_five_classes = [classificador.classes_[probs.argsort()[-NUMBER_OF_GROUPS_TO_PREDICT:][::-1]] for probs in probabilities]\n",
    "\n",
    "# Calculate accuracy based on top five predicted classes\n",
    "correct_predictions = 0\n",
    "\n",
    "for true_label, predicted_labels in zip(y_test, top_five_classes):\n",
    "    if true_label in predicted_labels:\n",
    "        correct_predictions += 1\n",
    "\n",
    "naive_bayes_top_5_accuracy = correct_predictions / len(y_test)\n",
    "print(\"top 5 accuracy: \", naive_bayes_top_5_accuracy)\n",
    "\n",
    "joblib.dump(classificador, 'nb_classifier.pkl')"
   ]
  },
  {
   "cell_type": "code",
   "execution_count": 140,
   "metadata": {},
   "outputs": [
    {
     "name": "stdout",
     "output_type": "stream",
     "text": [
      "Predição:  ['Annals Statistics  Vol .  . A']\n",
      "Tempo de inferência: 0.0024 segundos\n"
     ]
    }
   ],
   "source": [
    "# test the model with the input 'title_abstract'\n",
    "title_abstract = 'A new approach to the maximum flow problem'\n",
    "start_time = time.time()\n",
    "resposta=classificador.predict([title_abstract])\n",
    "\n",
    "end_time = time.time()\n",
    "\n",
    "# Calcular o tempo de inferência em segundos\n",
    "naive_bayes_tempo_inferencia = end_time - start_time\n",
    "print(\"Predição: \", resposta)\n",
    "print(\"Tempo de inferência: {:.4f} segundos\".format(naive_bayes_tempo_inferencia))\n"
   ]
  },
  {
   "cell_type": "code",
   "execution_count": 141,
   "metadata": {},
   "outputs": [
    {
     "name": "stdout",
     "output_type": "stream",
     "text": [
      "Mean accuracy:  0.32947826988901563\n",
      "Standard deviation accuracy:  0.01066953220831939\n",
      "Confidence interval:  [0.3240787416032087, 0.33487779817482255]\n"
     ]
    }
   ],
   "source": [
    "def intervalo_de_confianca(classificador, X_text, y_test):\n",
    "    scores = cross_val_score(classificador, X_test, y_test, cv=5, scoring='accuracy')\n",
    "    mean_accuracy = np.mean(scores)\n",
    "    std_accuracy = np.std(scores)\n",
    "    # Calculando o intervalo de confiança de 95%\n",
    "    confidence_interval = [mean_accuracy - 1.96 * (std_accuracy / np.sqrt(15)), mean_accuracy + 1.96 * (std_accuracy / np.sqrt(15))]\n",
    "    print('Mean accuracy: ', mean_accuracy)\n",
    "    print('Standard deviation accuracy: ', std_accuracy)\n",
    "    print('Confidence interval: ', confidence_interval)\n",
    "    return mean_accuracy,std_accuracy,confidence_interval\n",
    "\n",
    "\n",
    "naive_bayes_mean_accuracy,naive_bayes_std_accuracy,naive_bayes_confidence_interval = intervalo_de_confianca(classificador, X_test, y_test)\n",
    "\n"
   ]
  },
  {
   "attachments": {},
   "cell_type": "markdown",
   "metadata": {},
   "source": [
    "## CNN"
   ]
  },
  {
   "cell_type": "code",
   "execution_count": 142,
   "metadata": {},
   "outputs": [
    {
     "data": {
      "text/plain": [
       "AIP Conf.Proc.                          259\n",
       "Annals Applied Probability  Vol .  .    259\n",
       "PoS LAT                                 259\n",
       "Physical Review B                       259\n",
       "Physica B                               259\n",
       "Phys.Rev.D                              259\n",
       "Phys.Lett.B                             259\n",
       "Phys . Rev . Lett .                     259\n",
       "Phys . Rev . B                          259\n",
       "Nucl.Phys.A                             259\n",
       "New J. Phys .                           259\n",
       "Mon.Not.Roy.Astron.Soc.                 259\n",
       "JHEP                                    259\n",
       "JCAP                                    259\n",
       "J.Phys.G S                              259\n",
       "J.Phys.Conf.Ser.                        259\n",
       "J.Phys.A                                259\n",
       "J. Stat . Mech .  P                     259\n",
       "J. Phys . Math . Theor .   October      259\n",
       "J . Phys . Condens . Matter             259\n",
       "J . Math . Phys .    .                  259\n",
       "Int.J.Mod.Phys.A                        259\n",
       "Eur . Phys . J . B                      259\n",
       "Commun.Theor.Phys.                      259\n",
       "Class.Quant.Grav. SS                    259\n",
       "Chem . Phys . Lett .                    259\n",
       "Astrophys.J.                            259\n",
       "Astron.Astrophys .                      259\n",
       "Annals Statistics  Vol .  . A           259\n",
       "Trans . Amer . Math . Soc .             259\n",
       "Name: Group, dtype: int64"
      ]
     },
     "execution_count": 142,
     "metadata": {},
     "output_type": "execute_result"
    }
   ],
   "source": [
    "df_arxiv_top30_normalized['Group'].value_counts()"
   ]
  },
  {
   "cell_type": "code",
   "execution_count": 143,
   "metadata": {},
   "outputs": [],
   "source": [
    "import pandas as pd\n",
    "import tensorflow as tf\n",
    "\n",
    "from keras.layers import Input, Embedding, Conv1D, GlobalAveragePooling1D, Dense, Activation, AveragePooling1D, TextVectorization\n",
    "from keras.models import Model\n",
    "from sklearn.model_selection import train_test_split\n",
    "from sklearn.preprocessing import LabelEncoder\n",
    "from keras.preprocessing.text import Tokenizer\n",
    "# from keras.preprocessing.sequence import pad_sequences\n",
    "from keras.utils import pad_sequences\n",
    "from keras.metrics import top_k_categorical_accuracy"
   ]
  },
  {
   "cell_type": "code",
   "execution_count": 144,
   "metadata": {},
   "outputs": [
    {
     "name": "stdout",
     "output_type": "stream",
     "text": [
      "Epoch 1/30\n",
      "195/195 [==============================] - 7s 20ms/step - loss: 3.3847 - accuracy: 0.0541 - val_loss: 3.3536 - val_accuracy: 0.0676\n",
      "Epoch 2/30\n",
      "195/195 [==============================] - 2s 10ms/step - loss: 3.2951 - accuracy: 0.0919 - val_loss: 3.2372 - val_accuracy: 0.1255\n",
      "Epoch 3/30\n",
      "195/195 [==============================] - 3s 14ms/step - loss: 3.2013 - accuracy: 0.1200 - val_loss: 3.1684 - val_accuracy: 0.1216\n",
      "Epoch 4/30\n",
      "195/195 [==============================] - 1s 7ms/step - loss: 3.1257 - accuracy: 0.1673 - val_loss: 3.0912 - val_accuracy: 0.1840\n",
      "Epoch 5/30\n",
      "195/195 [==============================] - 2s 12ms/step - loss: 3.0302 - accuracy: 0.2003 - val_loss: 2.9957 - val_accuracy: 0.2053\n",
      "Epoch 6/30\n",
      "195/195 [==============================] - 2s 9ms/step - loss: 2.9123 - accuracy: 0.2376 - val_loss: 2.8825 - val_accuracy: 0.2368\n",
      "Epoch 7/30\n",
      "195/195 [==============================] - 1s 6ms/step - loss: 2.7873 - accuracy: 0.2741 - val_loss: 2.7699 - val_accuracy: 0.2716\n",
      "Epoch 8/30\n",
      "195/195 [==============================] - 2s 9ms/step - loss: 2.6712 - accuracy: 0.3007 - val_loss: 2.6723 - val_accuracy: 0.2716\n",
      "Epoch 9/30\n",
      "195/195 [==============================] - 1s 7ms/step - loss: 2.5695 - accuracy: 0.3081 - val_loss: 2.5917 - val_accuracy: 0.2967\n",
      "Epoch 10/30\n",
      "195/195 [==============================] - 2s 10ms/step - loss: 2.4827 - accuracy: 0.3311 - val_loss: 2.5326 - val_accuracy: 0.3102\n",
      "Epoch 11/30\n",
      "195/195 [==============================] - 1s 6ms/step - loss: 2.4120 - accuracy: 0.3473 - val_loss: 2.4770 - val_accuracy: 0.3134\n",
      "Epoch 12/30\n",
      "195/195 [==============================] - 2s 10ms/step - loss: 2.3507 - accuracy: 0.3546 - val_loss: 2.4300 - val_accuracy: 0.3353\n",
      "Epoch 13/30\n",
      "195/195 [==============================] - 1s 7ms/step - loss: 2.2976 - accuracy: 0.3615 - val_loss: 2.3932 - val_accuracy: 0.3346\n",
      "Epoch 14/30\n",
      "195/195 [==============================] - 1s 7ms/step - loss: 2.2522 - accuracy: 0.3673 - val_loss: 2.3650 - val_accuracy: 0.3353\n",
      "Epoch 15/30\n",
      "195/195 [==============================] - 1s 7ms/step - loss: 2.2121 - accuracy: 0.3761 - val_loss: 2.3431 - val_accuracy: 0.3359\n",
      "Epoch 16/30\n",
      "195/195 [==============================] - 2s 13ms/step - loss: 2.1751 - accuracy: 0.3830 - val_loss: 2.3204 - val_accuracy: 0.3398\n",
      "Epoch 17/30\n",
      "195/195 [==============================] - 1s 7ms/step - loss: 2.1404 - accuracy: 0.3958 - val_loss: 2.3014 - val_accuracy: 0.3481\n",
      "Epoch 18/30\n",
      "195/195 [==============================] - 1s 7ms/step - loss: 2.1108 - accuracy: 0.3995 - val_loss: 2.2914 - val_accuracy: 0.3404\n",
      "Epoch 19/30\n",
      "195/195 [==============================] - 1s 7ms/step - loss: 2.0811 - accuracy: 0.4030 - val_loss: 2.2757 - val_accuracy: 0.3475\n",
      "Epoch 20/30\n",
      "195/195 [==============================] - 1s 7ms/step - loss: 2.0545 - accuracy: 0.4126 - val_loss: 2.2589 - val_accuracy: 0.3378\n",
      "Epoch 21/30\n",
      "195/195 [==============================] - 2s 9ms/step - loss: 2.0280 - accuracy: 0.4183 - val_loss: 2.2535 - val_accuracy: 0.3417\n",
      "Epoch 22/30\n",
      "195/195 [==============================] - 1s 7ms/step - loss: 2.0032 - accuracy: 0.4250 - val_loss: 2.2401 - val_accuracy: 0.3404\n",
      "Epoch 23/30\n",
      "195/195 [==============================] - 1s 8ms/step - loss: 1.9789 - accuracy: 0.4282 - val_loss: 2.2351 - val_accuracy: 0.3488\n",
      "Epoch 24/30\n",
      "195/195 [==============================] - 1s 7ms/step - loss: 1.9562 - accuracy: 0.4369 - val_loss: 2.2286 - val_accuracy: 0.3552\n",
      "Epoch 25/30\n",
      "195/195 [==============================] - 1s 8ms/step - loss: 1.9337 - accuracy: 0.4419 - val_loss: 2.2244 - val_accuracy: 0.3507\n",
      "Epoch 26/30\n",
      "195/195 [==============================] - 1s 7ms/step - loss: 1.9115 - accuracy: 0.4445 - val_loss: 2.2133 - val_accuracy: 0.3533\n",
      "Epoch 27/30\n",
      "195/195 [==============================] - 1s 7ms/step - loss: 1.8907 - accuracy: 0.4527 - val_loss: 2.2086 - val_accuracy: 0.3604\n",
      "Epoch 28/30\n",
      "195/195 [==============================] - 1s 7ms/step - loss: 1.8693 - accuracy: 0.4595 - val_loss: 2.2037 - val_accuracy: 0.3552\n",
      "Epoch 29/30\n",
      "195/195 [==============================] - 1s 7ms/step - loss: 1.8484 - accuracy: 0.4622 - val_loss: 2.2016 - val_accuracy: 0.3597\n",
      "Epoch 30/30\n",
      "195/195 [==============================] - 1s 6ms/step - loss: 1.8285 - accuracy: 0.4677 - val_loss: 2.2005 - val_accuracy: 0.3636\n",
      "49/49 [==============================] - 0s 3ms/step - loss: 2.2005 - accuracy: 0.3636\n",
      "Loss: 2.2005057334899902\n",
      "Accuracy 0.36357787251472473\n",
      "49/49 [==============================] - 0s 3ms/step\n",
      "Top-5 Accuracy: 0.7187902187902188\n"
     ]
    }
   ],
   "source": [
    "\n",
    "\n",
    "def cnn_embedding_softmax_model(vectorize_layer,vocab_size, num_classes):\n",
    "    # input_layer = Input(shape=(max_len,), dtype=tf.int32)\n",
    "    input_layer = Input(shape=(1,), dtype=tf.string)\n",
    "    # x = Embedding(vocab_size, 2)(input_layer)\n",
    "    x = input_layer \n",
    "    x = vectorize_layer(x)\n",
    "    x = Embedding(vocab_size, 128, name='projecao')(x)\n",
    "    x = GlobalAveragePooling1D()(x)\n",
    "    x = Dense(num_classes)(x)\n",
    "    x = Activation('softmax')(x)\n",
    "    return Model(input_layer, x)\n",
    "\n",
    "\n",
    "# Pré-processamento\n",
    "X = df_arxiv_top30_normalized['title_abstract'].values\n",
    "y = df_arxiv_top30_normalized['Group'].values\n",
    "\n",
    "# Codificar as classes em números\n",
    "label_encoder = LabelEncoder()\n",
    "y = label_encoder.fit_transform(y)\n",
    "\n",
    "# Divisão em treino e teste\n",
    "X_train, X_test, y_train, y_test = train_test_split(X, y, test_size=0.2, random_state=42)\n",
    "\n",
    "num_classes = len(label_encoder.classes_)\n",
    "vocab_size = 1000\n",
    "# vocab_size = 30000\n",
    "vectorize_layer = TextVectorization(output_mode='int', max_tokens=vocab_size, pad_to_max_tokens=True, output_sequence_length=256)\n",
    "vectorize_layer.adapt(X_train)\n",
    "\n",
    "model = cnn_embedding_softmax_model(vectorize_layer,vocab_size, num_classes)\n",
    "\n",
    "# Compilação do modelo\n",
    "model.compile(loss='sparse_categorical_crossentropy', optimizer='adam', metrics=['accuracy'])\n",
    "\n",
    "# Treinamento do modelo\n",
    "batch_size = 32\n",
    "epochs = 30\n",
    "\n",
    "# model.fit(X_train_pad, y_train, batch_size=batch_size, epochs=epochs, validation_data=(X_test_pad, y_test))\n",
    "history = model.fit(X_train, y_train, epochs=epochs,verbose=1, validation_data=(X_test, y_test), validation_split=0.1)\n",
    "\n",
    "# Avaliação do modelo\n",
    "loss, accuracy = model.evaluate(X_test, y_test)\n",
    "print(\"Loss:\", loss)\n",
    "print(\"Accuracy\", accuracy)\n",
    "\n",
    "from keras.metrics import top_k_categorical_accuracy\n",
    "def top_5_accuracy(y_true, y_pred):\n",
    "    return top_k_categorical_accuracy(y_true, y_pred, k=5)\n",
    "\n",
    "predictions = model.predict(X_test)\n",
    "cnn_top_5_acc = np.mean(np.max(np.equal(np.argsort(predictions)[:, -5:], np.expand_dims(y_test, axis=1)), axis=1))\n",
    "print(\"Top-5 Accuracy:\", cnn_top_5_acc)\n",
    "cnn_accuracy = accuracy"
   ]
  },
  {
   "cell_type": "code",
   "execution_count": 145,
   "metadata": {},
   "outputs": [
    {
     "data": {
      "text/plain": [
       "['label_encoder.joblib']"
      ]
     },
     "execution_count": 145,
     "metadata": {},
     "output_type": "execute_result"
    }
   ],
   "source": [
    "joblib.dump(label_encoder, 'label_encoder.joblib')\n"
   ]
  },
  {
   "cell_type": "code",
   "execution_count": 146,
   "metadata": {},
   "outputs": [
    {
     "name": "stderr",
     "output_type": "stream",
     "text": [
      "2023-06-05 21:34:46.662081: I tensorflow/core/common_runtime/executor.cc:1197] [/device:CPU:0] (DEBUG INFO) Executor start aborting (this does not indicate an error and you can ignore this message): INVALID_ARGUMENT: You must feed a value for placeholder tensor 'input_9' with dtype string and shape [?,1]\n",
      "\t [[{{node input_9}}]]\n",
      "2023-06-05 21:34:46.802035: I tensorflow/core/common_runtime/executor.cc:1197] [/device:CPU:0] (DEBUG INFO) Executor start aborting (this does not indicate an error and you can ignore this message): INVALID_ARGUMENT: You must feed a value for placeholder tensor 'input_9' with dtype string and shape [?,1]\n",
      "\t [[{{node input_9}}]]\n",
      "2023-06-05 21:34:46.845591: I tensorflow/core/common_runtime/executor.cc:1197] [/device:CPU:0] (DEBUG INFO) Executor start aborting (this does not indicate an error and you can ignore this message): INVALID_ARGUMENT: You must feed a value for placeholder tensor 'inputs' with dtype string and shape [?,1]\n",
      "\t [[{{node inputs}}]]\n",
      "2023-06-05 21:34:46.855873: I tensorflow/core/common_runtime/executor.cc:1197] [/device:CPU:0] (DEBUG INFO) Executor start aborting (this does not indicate an error and you can ignore this message): INVALID_ARGUMENT: You must feed a value for placeholder tensor 'inputs' with dtype string and shape [?,1]\n",
      "\t [[{{node inputs}}]]\n",
      "2023-06-05 21:34:46.952421: I tensorflow/core/common_runtime/executor.cc:1197] [/device:CPU:0] (DEBUG INFO) Executor start aborting (this does not indicate an error and you can ignore this message): INVALID_ARGUMENT: You must feed a value for placeholder tensor 'input_9' with dtype string and shape [?,1]\n",
      "\t [[{{node input_9}}]]\n",
      "2023-06-05 21:34:47.020434: I tensorflow/core/common_runtime/executor.cc:1197] [/device:CPU:0] (DEBUG INFO) Executor start aborting (this does not indicate an error and you can ignore this message): INVALID_ARGUMENT: You must feed a value for placeholder tensor 'inputs' with dtype string and shape [?,1]\n",
      "\t [[{{node inputs}}]]\n",
      "2023-06-05 21:34:47.030832: I tensorflow/core/common_runtime/executor.cc:1197] [/device:CPU:0] (DEBUG INFO) Executor start aborting (this does not indicate an error and you can ignore this message): INVALID_ARGUMENT: You must feed a value for placeholder tensor 'inputs' with dtype string and shape [?,1]\n",
      "\t [[{{node inputs}}]]\n",
      "WARNING:absl:Found untraced functions such as _update_step_xla while saving (showing 1 of 1). These functions will not be directly callable after loading.\n",
      "2023-06-05 21:34:47.828457: I tensorflow/core/common_runtime/executor.cc:1197] [/device:CPU:0] (DEBUG INFO) Executor start aborting (this does not indicate an error and you can ignore this message): INVALID_ARGUMENT: You must feed a value for placeholder tensor 'serving_default_input_9' with dtype string and shape [?,1]\n",
      "\t [[{{node serving_default_input_9}}]]\n"
     ]
    },
    {
     "name": "stdout",
     "output_type": "stream",
     "text": [
      "INFO:tensorflow:Assets written to: ./cnn_model/assets\n"
     ]
    },
    {
     "name": "stderr",
     "output_type": "stream",
     "text": [
      "INFO:tensorflow:Assets written to: ./cnn_model/assets\n"
     ]
    }
   ],
   "source": [
    "model.save('./cnn_model')"
   ]
  },
  {
   "cell_type": "code",
   "execution_count": 108,
   "metadata": {},
   "outputs": [
    {
     "name": "stdout",
     "output_type": "stream",
     "text": [
      "37/37 [==============================] - 0s 3ms/step\n",
      "37/37 [==============================] - 0s 3ms/step\n",
      "37/37 [==============================] - 0s 4ms/step\n",
      "37/37 [==============================] - 0s 3ms/step\n",
      "37/37 [==============================] - 0s 3ms/step\n",
      "37/37 [==============================] - 0s 3ms/step\n",
      "37/37 [==============================] - 0s 3ms/step\n",
      "37/37 [==============================] - 0s 3ms/step\n",
      "37/37 [==============================] - 0s 3ms/step\n",
      "37/37 [==============================] - 0s 3ms/step\n",
      "37/37 [==============================] - 0s 3ms/step\n",
      "37/37 [==============================] - 0s 3ms/step\n",
      "37/37 [==============================] - 0s 3ms/step\n",
      "37/37 [==============================] - 0s 3ms/step\n",
      "37/37 [==============================] - 0s 3ms/step\n",
      "37/37 [==============================] - 0s 3ms/step\n",
      "37/37 [==============================] - 0s 3ms/step\n",
      "37/37 [==============================] - 0s 3ms/step\n",
      "37/37 [==============================] - 0s 3ms/step\n",
      "37/37 [==============================] - 0s 3ms/step\n",
      "37/37 [==============================] - 0s 3ms/step\n",
      "37/37 [==============================] - 0s 3ms/step\n",
      "37/37 [==============================] - 0s 3ms/step\n",
      "37/37 [==============================] - 0s 3ms/step\n",
      "37/37 [==============================] - 0s 3ms/step\n",
      "37/37 [==============================] - 0s 3ms/step\n",
      "37/37 [==============================] - 0s 3ms/step\n",
      "37/37 [==============================] - 0s 3ms/step\n",
      "37/37 [==============================] - 0s 3ms/step\n",
      "37/37 [==============================] - 0s 3ms/step\n",
      "37/37 [==============================] - 0s 3ms/step\n",
      "37/37 [==============================] - 0s 3ms/step\n",
      "37/37 [==============================] - 0s 3ms/step\n",
      "37/37 [==============================] - 0s 3ms/step\n",
      "37/37 [==============================] - 0s 3ms/step\n",
      "37/37 [==============================] - 0s 3ms/step\n",
      "37/37 [==============================] - 0s 3ms/step\n",
      "37/37 [==============================] - 0s 3ms/step\n",
      "37/37 [==============================] - 0s 3ms/step\n",
      "37/37 [==============================] - 0s 3ms/step\n",
      "37/37 [==============================] - 0s 3ms/step\n",
      "37/37 [==============================] - 0s 3ms/step\n",
      "37/37 [==============================] - 0s 3ms/step\n",
      "37/37 [==============================] - 0s 3ms/step\n",
      "37/37 [==============================] - 0s 3ms/step\n",
      "37/37 [==============================] - 0s 3ms/step\n",
      "37/37 [==============================] - 0s 3ms/step\n",
      "37/37 [==============================] - 0s 3ms/step\n",
      "37/37 [==============================] - 0s 3ms/step\n",
      "37/37 [==============================] - 0s 3ms/step\n",
      "37/37 [==============================] - 0s 3ms/step\n",
      "37/37 [==============================] - 0s 3ms/step\n",
      "37/37 [==============================] - 0s 3ms/step\n",
      "37/37 [==============================] - 0s 3ms/step\n",
      "37/37 [==============================] - 0s 3ms/step\n",
      "37/37 [==============================] - 0s 3ms/step\n",
      "37/37 [==============================] - 0s 3ms/step\n",
      "37/37 [==============================] - 0s 3ms/step\n",
      "37/37 [==============================] - 0s 3ms/step\n",
      "37/37 [==============================] - 0s 3ms/step\n",
      "37/37 [==============================] - 0s 3ms/step\n",
      "37/37 [==============================] - 0s 3ms/step\n",
      "37/37 [==============================] - 0s 3ms/step\n",
      "37/37 [==============================] - 0s 3ms/step\n",
      "37/37 [==============================] - 0s 3ms/step\n",
      "37/37 [==============================] - 0s 3ms/step\n",
      "37/37 [==============================] - 0s 3ms/step\n",
      "37/37 [==============================] - 0s 3ms/step\n",
      "37/37 [==============================] - 0s 3ms/step\n",
      "37/37 [==============================] - 0s 3ms/step\n",
      "37/37 [==============================] - 0s 3ms/step\n",
      "37/37 [==============================] - 0s 3ms/step\n",
      "37/37 [==============================] - 0s 3ms/step\n",
      "37/37 [==============================] - 0s 3ms/step\n",
      "37/37 [==============================] - 0s 3ms/step\n",
      "37/37 [==============================] - 0s 3ms/step\n",
      "37/37 [==============================] - 0s 3ms/step\n",
      "37/37 [==============================] - 0s 3ms/step\n",
      "37/37 [==============================] - 0s 3ms/step\n",
      "37/37 [==============================] - 0s 3ms/step\n",
      "37/37 [==============================] - 0s 3ms/step\n",
      "37/37 [==============================] - 0s 3ms/step\n",
      "37/37 [==============================] - 0s 3ms/step\n",
      "37/37 [==============================] - 0s 3ms/step\n",
      "37/37 [==============================] - 0s 3ms/step\n",
      "37/37 [==============================] - 0s 3ms/step\n",
      "37/37 [==============================] - 0s 3ms/step\n",
      "37/37 [==============================] - 0s 3ms/step\n",
      "37/37 [==============================] - 0s 3ms/step\n",
      "37/37 [==============================] - 0s 3ms/step\n",
      "37/37 [==============================] - 0s 3ms/step\n",
      "37/37 [==============================] - 0s 3ms/step\n",
      "37/37 [==============================] - 0s 3ms/step\n",
      "37/37 [==============================] - 0s 3ms/step\n",
      "37/37 [==============================] - 0s 3ms/step\n",
      "37/37 [==============================] - 0s 3ms/step\n",
      "37/37 [==============================] - 0s 3ms/step\n",
      "37/37 [==============================] - 0s 3ms/step\n",
      "37/37 [==============================] - 0s 3ms/step\n",
      "37/37 [==============================] - 0s 3ms/step\n",
      "37/37 [==============================] - 0s 3ms/step\n",
      "37/37 [==============================] - 0s 3ms/step\n",
      "37/37 [==============================] - 0s 3ms/step\n",
      "37/37 [==============================] - 0s 3ms/step\n",
      "37/37 [==============================] - 0s 3ms/step\n",
      "37/37 [==============================] - 0s 3ms/step\n",
      "37/37 [==============================] - 0s 3ms/step\n",
      "37/37 [==============================] - 0s 3ms/step\n",
      "37/37 [==============================] - 0s 3ms/step\n",
      "37/37 [==============================] - 0s 3ms/step\n",
      "37/37 [==============================] - 0s 3ms/step\n",
      "37/37 [==============================] - 0s 3ms/step\n",
      "37/37 [==============================] - 0s 3ms/step\n",
      "37/37 [==============================] - 0s 3ms/step\n",
      "37/37 [==============================] - 0s 3ms/step\n",
      "37/37 [==============================] - 0s 3ms/step\n",
      "37/37 [==============================] - 0s 3ms/step\n",
      "37/37 [==============================] - 0s 3ms/step\n",
      "37/37 [==============================] - 0s 3ms/step\n",
      "37/37 [==============================] - 0s 3ms/step\n",
      "37/37 [==============================] - 0s 3ms/step\n",
      "37/37 [==============================] - 0s 3ms/step\n",
      "37/37 [==============================] - 0s 3ms/step\n",
      "37/37 [==============================] - 0s 3ms/step\n",
      "37/37 [==============================] - 0s 3ms/step\n",
      "37/37 [==============================] - 0s 3ms/step\n",
      "37/37 [==============================] - 0s 3ms/step\n",
      "37/37 [==============================] - 0s 3ms/step\n",
      "37/37 [==============================] - 0s 3ms/step\n",
      "37/37 [==============================] - 0s 3ms/step\n",
      "37/37 [==============================] - 0s 3ms/step\n",
      "37/37 [==============================] - 0s 3ms/step\n",
      "37/37 [==============================] - 0s 3ms/step\n",
      "37/37 [==============================] - 0s 3ms/step\n",
      "37/37 [==============================] - 0s 4ms/step\n",
      "37/37 [==============================] - 0s 3ms/step\n",
      "37/37 [==============================] - 0s 3ms/step\n",
      "37/37 [==============================] - 0s 3ms/step\n",
      "37/37 [==============================] - 0s 3ms/step\n",
      "37/37 [==============================] - 0s 3ms/step\n",
      "37/37 [==============================] - 0s 3ms/step\n",
      "37/37 [==============================] - 0s 3ms/step\n",
      "37/37 [==============================] - 0s 3ms/step\n",
      "37/37 [==============================] - 0s 3ms/step\n",
      "37/37 [==============================] - 0s 3ms/step\n",
      "37/37 [==============================] - 0s 3ms/step\n",
      "37/37 [==============================] - 0s 3ms/step\n",
      "37/37 [==============================] - 0s 3ms/step\n",
      "37/37 [==============================] - 0s 3ms/step\n",
      "37/37 [==============================] - 0s 3ms/step\n",
      "37/37 [==============================] - 0s 3ms/step\n",
      "37/37 [==============================] - 0s 3ms/step\n",
      "37/37 [==============================] - 0s 3ms/step\n",
      "37/37 [==============================] - 0s 3ms/step\n",
      "37/37 [==============================] - 0s 3ms/step\n",
      "37/37 [==============================] - 0s 3ms/step\n",
      "37/37 [==============================] - 0s 3ms/step\n",
      "37/37 [==============================] - 0s 3ms/step\n",
      "37/37 [==============================] - 0s 3ms/step\n",
      "37/37 [==============================] - 0s 3ms/step\n",
      "37/37 [==============================] - 0s 3ms/step\n",
      "37/37 [==============================] - 0s 3ms/step\n",
      "37/37 [==============================] - 0s 3ms/step\n",
      "37/37 [==============================] - 0s 3ms/step\n",
      "37/37 [==============================] - 0s 3ms/step\n",
      "37/37 [==============================] - 0s 3ms/step\n",
      "37/37 [==============================] - 0s 3ms/step\n",
      "37/37 [==============================] - 0s 3ms/step\n",
      "37/37 [==============================] - 0s 4ms/step\n",
      "37/37 [==============================] - 0s 3ms/step\n",
      "37/37 [==============================] - 0s 3ms/step\n",
      "37/37 [==============================] - 0s 3ms/step\n",
      "37/37 [==============================] - 0s 3ms/step\n",
      "37/37 [==============================] - 0s 3ms/step\n",
      "37/37 [==============================] - 0s 3ms/step\n",
      "37/37 [==============================] - 0s 3ms/step\n",
      "37/37 [==============================] - 0s 3ms/step\n",
      "37/37 [==============================] - 0s 3ms/step\n",
      "37/37 [==============================] - 0s 3ms/step\n",
      "37/37 [==============================] - 0s 3ms/step\n",
      "37/37 [==============================] - 0s 3ms/step\n",
      "37/37 [==============================] - 0s 3ms/step\n",
      "37/37 [==============================] - 0s 3ms/step\n",
      "37/37 [==============================] - 0s 3ms/step\n",
      "37/37 [==============================] - 0s 3ms/step\n",
      "37/37 [==============================] - 0s 3ms/step\n",
      "37/37 [==============================] - 0s 3ms/step\n",
      "37/37 [==============================] - 0s 3ms/step\n",
      "37/37 [==============================] - 0s 3ms/step\n",
      "37/37 [==============================] - 0s 3ms/step\n",
      "37/37 [==============================] - 0s 3ms/step\n",
      "37/37 [==============================] - 0s 3ms/step\n",
      "37/37 [==============================] - 0s 3ms/step\n",
      "37/37 [==============================] - 0s 3ms/step\n",
      "37/37 [==============================] - 0s 3ms/step\n",
      "37/37 [==============================] - 0s 3ms/step\n",
      "37/37 [==============================] - 0s 3ms/step\n",
      "37/37 [==============================] - 0s 3ms/step\n",
      "37/37 [==============================] - 0s 3ms/step\n",
      "37/37 [==============================] - 0s 3ms/step\n",
      "37/37 [==============================] - 0s 3ms/step\n",
      "37/37 [==============================] - 0s 3ms/step\n",
      "37/37 [==============================] - 0s 3ms/step\n",
      "37/37 [==============================] - 0s 3ms/step\n",
      "37/37 [==============================] - 0s 3ms/step\n",
      "37/37 [==============================] - 0s 3ms/step\n",
      "37/37 [==============================] - 0s 3ms/step\n",
      "37/37 [==============================] - 0s 3ms/step\n",
      "37/37 [==============================] - 0s 3ms/step\n",
      "37/37 [==============================] - 0s 3ms/step\n",
      "37/37 [==============================] - 0s 3ms/step\n",
      "37/37 [==============================] - 0s 3ms/step\n",
      "37/37 [==============================] - 0s 3ms/step\n",
      "37/37 [==============================] - 0s 3ms/step\n",
      "37/37 [==============================] - 0s 3ms/step\n",
      "37/37 [==============================] - 0s 3ms/step\n",
      "37/37 [==============================] - 0s 3ms/step\n",
      "37/37 [==============================] - 0s 3ms/step\n",
      "37/37 [==============================] - 0s 3ms/step\n",
      "37/37 [==============================] - 0s 3ms/step\n",
      "37/37 [==============================] - 0s 3ms/step\n",
      "37/37 [==============================] - 0s 3ms/step\n",
      "37/37 [==============================] - 0s 3ms/step\n",
      "37/37 [==============================] - 0s 3ms/step\n",
      "37/37 [==============================] - 0s 3ms/step\n",
      "37/37 [==============================] - 0s 3ms/step\n",
      "37/37 [==============================] - 0s 3ms/step\n",
      "37/37 [==============================] - 0s 3ms/step\n",
      "37/37 [==============================] - 0s 3ms/step\n",
      "37/37 [==============================] - 0s 3ms/step\n",
      "37/37 [==============================] - 0s 3ms/step\n",
      "37/37 [==============================] - 0s 3ms/step\n",
      "37/37 [==============================] - 0s 3ms/step\n",
      "37/37 [==============================] - 0s 3ms/step\n",
      "37/37 [==============================] - 0s 3ms/step\n",
      "37/37 [==============================] - 0s 3ms/step\n",
      "37/37 [==============================] - 0s 3ms/step\n",
      "37/37 [==============================] - 0s 3ms/step\n",
      "37/37 [==============================] - 0s 3ms/step\n",
      "37/37 [==============================] - 0s 3ms/step\n",
      "37/37 [==============================] - 0s 3ms/step\n",
      "37/37 [==============================] - 0s 3ms/step\n",
      "37/37 [==============================] - 0s 3ms/step\n",
      "37/37 [==============================] - 0s 3ms/step\n",
      "37/37 [==============================] - 0s 3ms/step\n",
      "37/37 [==============================] - 0s 3ms/step\n",
      "37/37 [==============================] - 0s 3ms/step\n",
      "37/37 [==============================] - 0s 3ms/step\n",
      "37/37 [==============================] - 0s 3ms/step\n",
      "37/37 [==============================] - 0s 3ms/step\n",
      "37/37 [==============================] - 0s 3ms/step\n",
      "37/37 [==============================] - 0s 3ms/step\n",
      "37/37 [==============================] - 0s 3ms/step\n",
      "37/37 [==============================] - 0s 3ms/step\n",
      "37/37 [==============================] - 0s 3ms/step\n",
      "37/37 [==============================] - 0s 3ms/step\n",
      "37/37 [==============================] - 0s 3ms/step\n",
      "37/37 [==============================] - 0s 3ms/step\n",
      "37/37 [==============================] - 0s 3ms/step\n",
      "37/37 [==============================] - 0s 3ms/step\n",
      "37/37 [==============================] - 0s 3ms/step\n",
      "37/37 [==============================] - 0s 3ms/step\n",
      "37/37 [==============================] - 0s 3ms/step\n",
      "37/37 [==============================] - 0s 3ms/step\n",
      "37/37 [==============================] - 0s 3ms/step\n",
      "37/37 [==============================] - 0s 3ms/step\n",
      "37/37 [==============================] - 0s 3ms/step\n",
      "37/37 [==============================] - 0s 3ms/step\n",
      "37/37 [==============================] - 0s 3ms/step\n",
      "37/37 [==============================] - 0s 3ms/step\n",
      "37/37 [==============================] - 0s 3ms/step\n",
      "37/37 [==============================] - 0s 3ms/step\n",
      "37/37 [==============================] - 0s 3ms/step\n",
      "37/37 [==============================] - 0s 3ms/step\n",
      "37/37 [==============================] - 0s 3ms/step\n",
      "37/37 [==============================] - 0s 3ms/step\n",
      "37/37 [==============================] - 0s 3ms/step\n",
      "37/37 [==============================] - 0s 3ms/step\n",
      "37/37 [==============================] - 0s 3ms/step\n",
      "37/37 [==============================] - 0s 3ms/step\n",
      "37/37 [==============================] - 0s 3ms/step\n",
      "37/37 [==============================] - 0s 3ms/step\n",
      "37/37 [==============================] - 0s 3ms/step\n",
      "37/37 [==============================] - 0s 3ms/step\n",
      "37/37 [==============================] - 0s 3ms/step\n",
      "37/37 [==============================] - 0s 3ms/step\n",
      "37/37 [==============================] - 0s 3ms/step\n",
      "37/37 [==============================] - 0s 3ms/step\n",
      "37/37 [==============================] - 0s 3ms/step\n",
      "37/37 [==============================] - 0s 3ms/step\n",
      "37/37 [==============================] - 0s 3ms/step\n",
      "37/37 [==============================] - 0s 3ms/step\n",
      "37/37 [==============================] - 0s 3ms/step\n",
      "37/37 [==============================] - 0s 3ms/step\n",
      "37/37 [==============================] - 0s 3ms/step\n",
      "37/37 [==============================] - 0s 3ms/step\n",
      "37/37 [==============================] - 0s 3ms/step\n",
      "37/37 [==============================] - 0s 3ms/step\n",
      "37/37 [==============================] - 0s 3ms/step\n",
      "37/37 [==============================] - 0s 3ms/step\n",
      "37/37 [==============================] - 0s 3ms/step\n",
      "37/37 [==============================] - 0s 3ms/step\n",
      "37/37 [==============================] - 0s 3ms/step\n",
      "37/37 [==============================] - 0s 3ms/step\n",
      "37/37 [==============================] - 0s 3ms/step\n",
      "37/37 [==============================] - 0s 3ms/step\n",
      "37/37 [==============================] - 0s 3ms/step\n",
      "37/37 [==============================] - 0s 3ms/step\n",
      "37/37 [==============================] - 0s 3ms/step\n",
      "37/37 [==============================] - 0s 3ms/step\n",
      "37/37 [==============================] - 0s 3ms/step\n",
      "37/37 [==============================] - 0s 3ms/step\n",
      "37/37 [==============================] - 0s 3ms/step\n",
      "37/37 [==============================] - 0s 3ms/step\n",
      "37/37 [==============================] - 0s 3ms/step\n",
      "37/37 [==============================] - 0s 3ms/step\n",
      "37/37 [==============================] - 0s 3ms/step\n",
      "37/37 [==============================] - 0s 3ms/step\n",
      "37/37 [==============================] - 0s 3ms/step\n",
      "37/37 [==============================] - 0s 3ms/step\n",
      "37/37 [==============================] - 0s 3ms/step\n",
      "37/37 [==============================] - 0s 3ms/step\n",
      "37/37 [==============================] - 0s 4ms/step\n",
      "37/37 [==============================] - 0s 3ms/step\n",
      "37/37 [==============================] - 0s 3ms/step\n",
      "37/37 [==============================] - 0s 3ms/step\n",
      "37/37 [==============================] - 0s 3ms/step\n",
      "37/37 [==============================] - 0s 3ms/step\n",
      "37/37 [==============================] - 0s 3ms/step\n",
      "37/37 [==============================] - 0s 3ms/step\n",
      "37/37 [==============================] - 0s 3ms/step\n",
      "37/37 [==============================] - 0s 3ms/step\n",
      "37/37 [==============================] - 0s 3ms/step\n",
      "37/37 [==============================] - 0s 3ms/step\n",
      "37/37 [==============================] - 0s 3ms/step\n",
      "37/37 [==============================] - 0s 3ms/step\n",
      "37/37 [==============================] - 0s 3ms/step\n",
      "37/37 [==============================] - 0s 3ms/step\n",
      "37/37 [==============================] - 0s 3ms/step\n",
      "37/37 [==============================] - 0s 3ms/step\n",
      "37/37 [==============================] - 0s 3ms/step\n",
      "37/37 [==============================] - 0s 3ms/step\n",
      "37/37 [==============================] - 0s 3ms/step\n",
      "37/37 [==============================] - 0s 3ms/step\n",
      "37/37 [==============================] - 0s 3ms/step\n",
      "37/37 [==============================] - 0s 3ms/step\n",
      "37/37 [==============================] - 0s 3ms/step\n",
      "37/37 [==============================] - 0s 3ms/step\n",
      "37/37 [==============================] - 0s 3ms/step\n",
      "37/37 [==============================] - 0s 3ms/step\n",
      "37/37 [==============================] - 0s 3ms/step\n",
      "37/37 [==============================] - 0s 3ms/step\n",
      "37/37 [==============================] - 0s 3ms/step\n",
      "37/37 [==============================] - 0s 3ms/step\n",
      "37/37 [==============================] - 0s 4ms/step\n",
      "37/37 [==============================] - 0s 3ms/step\n",
      "37/37 [==============================] - 0s 3ms/step\n",
      "37/37 [==============================] - 0s 3ms/step\n",
      "37/37 [==============================] - 0s 3ms/step\n",
      "37/37 [==============================] - 0s 3ms/step\n",
      "37/37 [==============================] - 0s 3ms/step\n",
      "37/37 [==============================] - 0s 3ms/step\n",
      "37/37 [==============================] - 0s 3ms/step\n",
      "37/37 [==============================] - 0s 3ms/step\n",
      "37/37 [==============================] - 0s 3ms/step\n",
      "37/37 [==============================] - 0s 3ms/step\n",
      "37/37 [==============================] - 0s 3ms/step\n",
      "37/37 [==============================] - 0s 3ms/step\n",
      "37/37 [==============================] - 0s 3ms/step\n",
      "37/37 [==============================] - 0s 3ms/step\n",
      "37/37 [==============================] - 0s 3ms/step\n",
      "37/37 [==============================] - 0s 3ms/step\n",
      "37/37 [==============================] - 0s 3ms/step\n",
      "37/37 [==============================] - 0s 3ms/step\n",
      "37/37 [==============================] - 0s 3ms/step\n",
      "37/37 [==============================] - 0s 3ms/step\n",
      "37/37 [==============================] - 0s 3ms/step\n",
      "37/37 [==============================] - 0s 3ms/step\n",
      "37/37 [==============================] - 0s 3ms/step\n",
      "37/37 [==============================] - 0s 3ms/step\n",
      "37/37 [==============================] - 0s 3ms/step\n",
      "37/37 [==============================] - 0s 3ms/step\n",
      "37/37 [==============================] - 0s 3ms/step\n",
      "37/37 [==============================] - 0s 3ms/step\n",
      "37/37 [==============================] - 0s 3ms/step\n",
      "37/37 [==============================] - 0s 3ms/step\n",
      "37/37 [==============================] - 0s 3ms/step\n",
      "37/37 [==============================] - 0s 3ms/step\n",
      "37/37 [==============================] - 0s 3ms/step\n",
      "37/37 [==============================] - 0s 3ms/step\n",
      "37/37 [==============================] - 0s 3ms/step\n",
      "37/37 [==============================] - 0s 3ms/step\n",
      "37/37 [==============================] - 0s 3ms/step\n",
      "37/37 [==============================] - 0s 3ms/step\n",
      "37/37 [==============================] - 0s 3ms/step\n",
      "37/37 [==============================] - 0s 3ms/step\n",
      "37/37 [==============================] - 0s 3ms/step\n",
      "37/37 [==============================] - 0s 3ms/step\n",
      "37/37 [==============================] - 0s 3ms/step\n",
      "37/37 [==============================] - 0s 3ms/step\n",
      "37/37 [==============================] - 0s 3ms/step\n",
      "37/37 [==============================] - 0s 3ms/step\n",
      "37/37 [==============================] - 0s 3ms/step\n",
      "37/37 [==============================] - 0s 3ms/step\n",
      "37/37 [==============================] - 0s 3ms/step\n",
      "37/37 [==============================] - 0s 3ms/step\n",
      "37/37 [==============================] - 0s 3ms/step\n",
      "37/37 [==============================] - 0s 3ms/step\n",
      "37/37 [==============================] - 0s 4ms/step\n",
      "37/37 [==============================] - 0s 3ms/step\n",
      "37/37 [==============================] - 0s 3ms/step\n",
      "37/37 [==============================] - 0s 3ms/step\n",
      "37/37 [==============================] - 0s 3ms/step\n",
      "37/37 [==============================] - 0s 3ms/step\n",
      "37/37 [==============================] - 0s 3ms/step\n",
      "37/37 [==============================] - 0s 3ms/step\n",
      "37/37 [==============================] - 0s 3ms/step\n",
      "37/37 [==============================] - 0s 3ms/step\n",
      "37/37 [==============================] - 0s 3ms/step\n",
      "37/37 [==============================] - 0s 3ms/step\n",
      "37/37 [==============================] - 0s 3ms/step\n",
      "37/37 [==============================] - 0s 4ms/step\n",
      "37/37 [==============================] - 0s 3ms/step\n",
      "37/37 [==============================] - 0s 3ms/step\n",
      "37/37 [==============================] - 0s 3ms/step\n",
      "37/37 [==============================] - 0s 3ms/step\n",
      "37/37 [==============================] - 0s 3ms/step\n",
      "37/37 [==============================] - 0s 3ms/step\n",
      "37/37 [==============================] - 0s 3ms/step\n",
      "37/37 [==============================] - 0s 3ms/step\n",
      "37/37 [==============================] - 0s 3ms/step\n",
      "37/37 [==============================] - 0s 4ms/step\n",
      "37/37 [==============================] - 0s 3ms/step\n",
      "37/37 [==============================] - 0s 4ms/step\n",
      "37/37 [==============================] - 0s 4ms/step\n",
      "37/37 [==============================] - 0s 4ms/step\n",
      "37/37 [==============================] - 0s 4ms/step\n",
      "37/37 [==============================] - 0s 3ms/step\n",
      "37/37 [==============================] - 0s 3ms/step\n",
      "37/37 [==============================] - 0s 5ms/step\n",
      "37/37 [==============================] - 0s 4ms/step\n",
      "37/37 [==============================] - 0s 3ms/step\n",
      "37/37 [==============================] - 0s 4ms/step\n",
      "37/37 [==============================] - 0s 4ms/step\n",
      "37/37 [==============================] - 0s 4ms/step\n",
      "37/37 [==============================] - 0s 3ms/step\n",
      "37/37 [==============================] - 0s 3ms/step\n",
      "37/37 [==============================] - 0s 3ms/step\n",
      "37/37 [==============================] - 0s 3ms/step\n",
      "37/37 [==============================] - 0s 3ms/step\n",
      "37/37 [==============================] - 0s 3ms/step\n",
      "37/37 [==============================] - 0s 3ms/step\n",
      "37/37 [==============================] - 0s 4ms/step\n",
      "37/37 [==============================] - 0s 3ms/step\n",
      "37/37 [==============================] - 0s 3ms/step\n",
      "37/37 [==============================] - 0s 4ms/step\n",
      "37/37 [==============================] - 0s 3ms/step\n",
      "37/37 [==============================] - 0s 4ms/step\n",
      "37/37 [==============================] - 0s 3ms/step\n",
      "37/37 [==============================] - 0s 3ms/step\n",
      "37/37 [==============================] - 0s 3ms/step\n",
      "37/37 [==============================] - 0s 3ms/step\n",
      "37/37 [==============================] - 0s 3ms/step\n",
      "37/37 [==============================] - 0s 4ms/step\n",
      "37/37 [==============================] - 0s 3ms/step\n",
      "37/37 [==============================] - 0s 3ms/step\n",
      "37/37 [==============================] - 0s 3ms/step\n",
      "37/37 [==============================] - 0s 3ms/step\n",
      "37/37 [==============================] - 0s 3ms/step\n",
      "37/37 [==============================] - 0s 3ms/step\n",
      "37/37 [==============================] - 0s 3ms/step\n",
      "37/37 [==============================] - 0s 3ms/step\n",
      "37/37 [==============================] - 0s 3ms/step\n",
      "37/37 [==============================] - 0s 3ms/step\n",
      "37/37 [==============================] - 0s 4ms/step\n",
      "37/37 [==============================] - 0s 3ms/step\n",
      "37/37 [==============================] - 0s 3ms/step\n",
      "37/37 [==============================] - 0s 3ms/step\n",
      "37/37 [==============================] - 0s 3ms/step\n",
      "37/37 [==============================] - 0s 3ms/step\n",
      "37/37 [==============================] - 0s 3ms/step\n",
      "37/37 [==============================] - 0s 3ms/step\n",
      "37/37 [==============================] - 0s 3ms/step\n",
      "37/37 [==============================] - 0s 3ms/step\n",
      "37/37 [==============================] - 0s 3ms/step\n",
      "37/37 [==============================] - 0s 3ms/step\n",
      "37/37 [==============================] - 0s 3ms/step\n",
      "37/37 [==============================] - 0s 3ms/step\n",
      "37/37 [==============================] - 0s 3ms/step\n",
      "37/37 [==============================] - 0s 3ms/step\n",
      "37/37 [==============================] - 0s 3ms/step\n",
      "37/37 [==============================] - 0s 3ms/step\n",
      "37/37 [==============================] - 0s 4ms/step\n",
      "37/37 [==============================] - 0s 3ms/step\n",
      "37/37 [==============================] - 0s 4ms/step\n",
      "37/37 [==============================] - 0s 4ms/step\n",
      "37/37 [==============================] - 0s 4ms/step\n",
      "37/37 [==============================] - 0s 3ms/step\n",
      "37/37 [==============================] - 0s 3ms/step\n",
      "37/37 [==============================] - 0s 3ms/step\n",
      "37/37 [==============================] - 0s 3ms/step\n",
      "37/37 [==============================] - 0s 3ms/step\n",
      "37/37 [==============================] - 0s 3ms/step\n",
      "37/37 [==============================] - 0s 3ms/step\n",
      "37/37 [==============================] - 0s 3ms/step\n",
      "37/37 [==============================] - 0s 3ms/step\n",
      "37/37 [==============================] - 0s 3ms/step\n",
      "37/37 [==============================] - 0s 3ms/step\n",
      "37/37 [==============================] - 0s 3ms/step\n",
      "37/37 [==============================] - 0s 3ms/step\n",
      "37/37 [==============================] - 0s 3ms/step\n",
      "37/37 [==============================] - 0s 3ms/step\n",
      "37/37 [==============================] - 0s 3ms/step\n",
      "37/37 [==============================] - 0s 3ms/step\n",
      "17/37 [============>.................] - ETA: 0s"
     ]
    },
    {
     "ename": "KeyboardInterrupt",
     "evalue": "",
     "output_type": "error",
     "traceback": [
      "\u001b[0;31m---------------------------------------------------------------------------\u001b[0m",
      "\u001b[0;31mKeyboardInterrupt\u001b[0m                         Traceback (most recent call last)",
      "\u001b[1;32m/home/marcelo/Desktop/eletivas/nlp/arxiv-nlp/main.ipynb Cell 33\u001b[0m in \u001b[0;36m2\n\u001b[1;32m     <a href='vscode-notebook-cell:/home/marcelo/Desktop/eletivas/nlp/arxiv-nlp/main.ipynb#X45sZmlsZQ%3D%3D?line=22'>23</a>\u001b[0m     \u001b[39mprint\u001b[39m(\u001b[39m'\u001b[39m\u001b[39mIntervalo de confiança de 95\u001b[39m\u001b[39m%\u001b[39m\u001b[39m: \u001b[39m\u001b[39m{}\u001b[39;00m\u001b[39m'\u001b[39m\u001b[39m.\u001b[39mformat(confidence_interval))\n\u001b[1;32m     <a href='vscode-notebook-cell:/home/marcelo/Desktop/eletivas/nlp/arxiv-nlp/main.ipynb#X45sZmlsZQ%3D%3D?line=23'>24</a>\u001b[0m     \u001b[39mreturn\u001b[39;00m mean_accuracy, std_accuracy,confidence_interval\n\u001b[0;32m---> <a href='vscode-notebook-cell:/home/marcelo/Desktop/eletivas/nlp/arxiv-nlp/main.ipynb#X45sZmlsZQ%3D%3D?line=25'>26</a>\u001b[0m cnn_mean_accuracy,cnn_std_accuracy,cnn_confidence_interval \u001b[39m=\u001b[39m intervalo_de_confianca_keras(model, X_test, y_test)\n",
      "\u001b[1;32m/home/marcelo/Desktop/eletivas/nlp/arxiv-nlp/main.ipynb Cell 33\u001b[0m in \u001b[0;36m1\n\u001b[1;32m     <a href='vscode-notebook-cell:/home/marcelo/Desktop/eletivas/nlp/arxiv-nlp/main.ipynb#X45sZmlsZQ%3D%3D?line=13'>14</a>\u001b[0m \u001b[39mfor\u001b[39;00m i \u001b[39min\u001b[39;00m \u001b[39mrange\u001b[39m(n_bootstrap_samples):\n\u001b[1;32m     <a href='vscode-notebook-cell:/home/marcelo/Desktop/eletivas/nlp/arxiv-nlp/main.ipynb#X45sZmlsZQ%3D%3D?line=14'>15</a>\u001b[0m     X_boot, y_boot \u001b[39m=\u001b[39m resample(X_test, y_test)\n\u001b[0;32m---> <a href='vscode-notebook-cell:/home/marcelo/Desktop/eletivas/nlp/arxiv-nlp/main.ipynb#X45sZmlsZQ%3D%3D?line=15'>16</a>\u001b[0m     accuracy \u001b[39m=\u001b[39m calculate_accuracy(model, X_boot, y_boot)\n\u001b[1;32m     <a href='vscode-notebook-cell:/home/marcelo/Desktop/eletivas/nlp/arxiv-nlp/main.ipynb#X45sZmlsZQ%3D%3D?line=16'>17</a>\u001b[0m     accuracies\u001b[39m.\u001b[39mappend(accuracy)\n\u001b[1;32m     <a href='vscode-notebook-cell:/home/marcelo/Desktop/eletivas/nlp/arxiv-nlp/main.ipynb#X45sZmlsZQ%3D%3D?line=18'>19</a>\u001b[0m mean_accuracy \u001b[39m=\u001b[39m np\u001b[39m.\u001b[39mmean(accuracies)\n",
      "\u001b[1;32m/home/marcelo/Desktop/eletivas/nlp/arxiv-nlp/main.ipynb Cell 33\u001b[0m in \u001b[0;36m6\n\u001b[1;32m      <a href='vscode-notebook-cell:/home/marcelo/Desktop/eletivas/nlp/arxiv-nlp/main.ipynb#X45sZmlsZQ%3D%3D?line=4'>5</a>\u001b[0m \u001b[39mdef\u001b[39;00m \u001b[39mcalculate_accuracy\u001b[39m(model, X, y):\n\u001b[0;32m----> <a href='vscode-notebook-cell:/home/marcelo/Desktop/eletivas/nlp/arxiv-nlp/main.ipynb#X45sZmlsZQ%3D%3D?line=5'>6</a>\u001b[0m     y_pred \u001b[39m=\u001b[39m model\u001b[39m.\u001b[39;49mpredict(X)\n\u001b[1;32m      <a href='vscode-notebook-cell:/home/marcelo/Desktop/eletivas/nlp/arxiv-nlp/main.ipynb#X45sZmlsZQ%3D%3D?line=6'>7</a>\u001b[0m     y_pred_classes \u001b[39m=\u001b[39m y_pred\u001b[39m.\u001b[39margmax(axis\u001b[39m=\u001b[39m\u001b[39m1\u001b[39m)\n\u001b[1;32m      <a href='vscode-notebook-cell:/home/marcelo/Desktop/eletivas/nlp/arxiv-nlp/main.ipynb#X45sZmlsZQ%3D%3D?line=7'>8</a>\u001b[0m     accuracy \u001b[39m=\u001b[39m np\u001b[39m.\u001b[39mmean(y_pred_classes \u001b[39m==\u001b[39m y)\n",
      "File \u001b[0;32m~/.local/lib/python3.10/site-packages/keras/utils/traceback_utils.py:65\u001b[0m, in \u001b[0;36mfilter_traceback.<locals>.error_handler\u001b[0;34m(*args, **kwargs)\u001b[0m\n\u001b[1;32m     63\u001b[0m filtered_tb \u001b[39m=\u001b[39m \u001b[39mNone\u001b[39;00m\n\u001b[1;32m     64\u001b[0m \u001b[39mtry\u001b[39;00m:\n\u001b[0;32m---> 65\u001b[0m     \u001b[39mreturn\u001b[39;00m fn(\u001b[39m*\u001b[39;49margs, \u001b[39m*\u001b[39;49m\u001b[39m*\u001b[39;49mkwargs)\n\u001b[1;32m     66\u001b[0m \u001b[39mexcept\u001b[39;00m \u001b[39mException\u001b[39;00m \u001b[39mas\u001b[39;00m e:\n\u001b[1;32m     67\u001b[0m     filtered_tb \u001b[39m=\u001b[39m _process_traceback_frames(e\u001b[39m.\u001b[39m__traceback__)\n",
      "File \u001b[0;32m~/.local/lib/python3.10/site-packages/keras/engine/training.py:2382\u001b[0m, in \u001b[0;36mModel.predict\u001b[0;34m(self, x, batch_size, verbose, steps, callbacks, max_queue_size, workers, use_multiprocessing)\u001b[0m\n\u001b[1;32m   2380\u001b[0m \u001b[39mfor\u001b[39;00m step \u001b[39min\u001b[39;00m data_handler\u001b[39m.\u001b[39msteps():\n\u001b[1;32m   2381\u001b[0m     callbacks\u001b[39m.\u001b[39mon_predict_batch_begin(step)\n\u001b[0;32m-> 2382\u001b[0m     tmp_batch_outputs \u001b[39m=\u001b[39m \u001b[39mself\u001b[39;49m\u001b[39m.\u001b[39;49mpredict_function(iterator)\n\u001b[1;32m   2383\u001b[0m     \u001b[39mif\u001b[39;00m data_handler\u001b[39m.\u001b[39mshould_sync:\n\u001b[1;32m   2384\u001b[0m         context\u001b[39m.\u001b[39masync_wait()\n",
      "File \u001b[0;32m~/.local/lib/python3.10/site-packages/tensorflow/python/util/traceback_utils.py:150\u001b[0m, in \u001b[0;36mfilter_traceback.<locals>.error_handler\u001b[0;34m(*args, **kwargs)\u001b[0m\n\u001b[1;32m    148\u001b[0m filtered_tb \u001b[39m=\u001b[39m \u001b[39mNone\u001b[39;00m\n\u001b[1;32m    149\u001b[0m \u001b[39mtry\u001b[39;00m:\n\u001b[0;32m--> 150\u001b[0m   \u001b[39mreturn\u001b[39;00m fn(\u001b[39m*\u001b[39;49margs, \u001b[39m*\u001b[39;49m\u001b[39m*\u001b[39;49mkwargs)\n\u001b[1;32m    151\u001b[0m \u001b[39mexcept\u001b[39;00m \u001b[39mException\u001b[39;00m \u001b[39mas\u001b[39;00m e:\n\u001b[1;32m    152\u001b[0m   filtered_tb \u001b[39m=\u001b[39m _process_traceback_frames(e\u001b[39m.\u001b[39m__traceback__)\n",
      "File \u001b[0;32m~/.local/lib/python3.10/site-packages/tensorflow/python/eager/polymorphic_function/polymorphic_function.py:894\u001b[0m, in \u001b[0;36mFunction.__call__\u001b[0;34m(self, *args, **kwds)\u001b[0m\n\u001b[1;32m    891\u001b[0m compiler \u001b[39m=\u001b[39m \u001b[39m\"\u001b[39m\u001b[39mxla\u001b[39m\u001b[39m\"\u001b[39m \u001b[39mif\u001b[39;00m \u001b[39mself\u001b[39m\u001b[39m.\u001b[39m_jit_compile \u001b[39melse\u001b[39;00m \u001b[39m\"\u001b[39m\u001b[39mnonXla\u001b[39m\u001b[39m\"\u001b[39m\n\u001b[1;32m    893\u001b[0m \u001b[39mwith\u001b[39;00m OptionalXlaContext(\u001b[39mself\u001b[39m\u001b[39m.\u001b[39m_jit_compile):\n\u001b[0;32m--> 894\u001b[0m   result \u001b[39m=\u001b[39m \u001b[39mself\u001b[39;49m\u001b[39m.\u001b[39;49m_call(\u001b[39m*\u001b[39;49margs, \u001b[39m*\u001b[39;49m\u001b[39m*\u001b[39;49mkwds)\n\u001b[1;32m    896\u001b[0m new_tracing_count \u001b[39m=\u001b[39m \u001b[39mself\u001b[39m\u001b[39m.\u001b[39mexperimental_get_tracing_count()\n\u001b[1;32m    897\u001b[0m without_tracing \u001b[39m=\u001b[39m (tracing_count \u001b[39m==\u001b[39m new_tracing_count)\n",
      "File \u001b[0;32m~/.local/lib/python3.10/site-packages/tensorflow/python/eager/polymorphic_function/polymorphic_function.py:933\u001b[0m, in \u001b[0;36mFunction._call\u001b[0;34m(self, *args, **kwds)\u001b[0m\n\u001b[1;32m    930\u001b[0m \u001b[39mself\u001b[39m\u001b[39m.\u001b[39m_lock\u001b[39m.\u001b[39mrelease()\n\u001b[1;32m    931\u001b[0m \u001b[39m# In this case we have not created variables on the first call. So we can\u001b[39;00m\n\u001b[1;32m    932\u001b[0m \u001b[39m# run the first trace but we should fail if variables are created.\u001b[39;00m\n\u001b[0;32m--> 933\u001b[0m results \u001b[39m=\u001b[39m \u001b[39mself\u001b[39;49m\u001b[39m.\u001b[39;49m_variable_creation_fn(\u001b[39m*\u001b[39;49margs, \u001b[39m*\u001b[39;49m\u001b[39m*\u001b[39;49mkwds)\n\u001b[1;32m    934\u001b[0m \u001b[39mif\u001b[39;00m \u001b[39mself\u001b[39m\u001b[39m.\u001b[39m_created_variables \u001b[39mand\u001b[39;00m \u001b[39mnot\u001b[39;00m ALLOW_DYNAMIC_VARIABLE_CREATION:\n\u001b[1;32m    935\u001b[0m   \u001b[39mraise\u001b[39;00m \u001b[39mValueError\u001b[39;00m(\u001b[39m\"\u001b[39m\u001b[39mCreating variables on a non-first call to a function\u001b[39m\u001b[39m\"\u001b[39m\n\u001b[1;32m    936\u001b[0m                    \u001b[39m\"\u001b[39m\u001b[39m decorated with tf.function.\u001b[39m\u001b[39m\"\u001b[39m)\n",
      "File \u001b[0;32m~/.local/lib/python3.10/site-packages/tensorflow/python/eager/polymorphic_function/tracing_compiler.py:143\u001b[0m, in \u001b[0;36mTracingCompiler.__call__\u001b[0;34m(self, *args, **kwargs)\u001b[0m\n\u001b[1;32m    140\u001b[0m \u001b[39mwith\u001b[39;00m \u001b[39mself\u001b[39m\u001b[39m.\u001b[39m_lock:\n\u001b[1;32m    141\u001b[0m   (concrete_function,\n\u001b[1;32m    142\u001b[0m    filtered_flat_args) \u001b[39m=\u001b[39m \u001b[39mself\u001b[39m\u001b[39m.\u001b[39m_maybe_define_function(args, kwargs)\n\u001b[0;32m--> 143\u001b[0m \u001b[39mreturn\u001b[39;00m concrete_function\u001b[39m.\u001b[39;49m_call_flat(\n\u001b[1;32m    144\u001b[0m     filtered_flat_args, captured_inputs\u001b[39m=\u001b[39;49mconcrete_function\u001b[39m.\u001b[39;49mcaptured_inputs)\n",
      "File \u001b[0;32m~/.local/lib/python3.10/site-packages/tensorflow/python/eager/polymorphic_function/monomorphic_function.py:1757\u001b[0m, in \u001b[0;36mConcreteFunction._call_flat\u001b[0;34m(self, args, captured_inputs, cancellation_manager)\u001b[0m\n\u001b[1;32m   1753\u001b[0m possible_gradient_type \u001b[39m=\u001b[39m gradients_util\u001b[39m.\u001b[39mPossibleTapeGradientTypes(args)\n\u001b[1;32m   1754\u001b[0m \u001b[39mif\u001b[39;00m (possible_gradient_type \u001b[39m==\u001b[39m gradients_util\u001b[39m.\u001b[39mPOSSIBLE_GRADIENT_TYPES_NONE\n\u001b[1;32m   1755\u001b[0m     \u001b[39mand\u001b[39;00m executing_eagerly):\n\u001b[1;32m   1756\u001b[0m   \u001b[39m# No tape is watching; skip to running the function.\u001b[39;00m\n\u001b[0;32m-> 1757\u001b[0m   \u001b[39mreturn\u001b[39;00m \u001b[39mself\u001b[39m\u001b[39m.\u001b[39m_build_call_outputs(\u001b[39mself\u001b[39;49m\u001b[39m.\u001b[39;49m_inference_function\u001b[39m.\u001b[39;49mcall(\n\u001b[1;32m   1758\u001b[0m       ctx, args, cancellation_manager\u001b[39m=\u001b[39;49mcancellation_manager))\n\u001b[1;32m   1759\u001b[0m forward_backward \u001b[39m=\u001b[39m \u001b[39mself\u001b[39m\u001b[39m.\u001b[39m_select_forward_and_backward_functions(\n\u001b[1;32m   1760\u001b[0m     args,\n\u001b[1;32m   1761\u001b[0m     possible_gradient_type,\n\u001b[1;32m   1762\u001b[0m     executing_eagerly)\n\u001b[1;32m   1763\u001b[0m forward_function, args_with_tangents \u001b[39m=\u001b[39m forward_backward\u001b[39m.\u001b[39mforward()\n",
      "File \u001b[0;32m~/.local/lib/python3.10/site-packages/tensorflow/python/eager/polymorphic_function/monomorphic_function.py:381\u001b[0m, in \u001b[0;36m_EagerDefinedFunction.call\u001b[0;34m(self, ctx, args, cancellation_manager)\u001b[0m\n\u001b[1;32m    379\u001b[0m \u001b[39mwith\u001b[39;00m _InterpolateFunctionError(\u001b[39mself\u001b[39m):\n\u001b[1;32m    380\u001b[0m   \u001b[39mif\u001b[39;00m cancellation_manager \u001b[39mis\u001b[39;00m \u001b[39mNone\u001b[39;00m:\n\u001b[0;32m--> 381\u001b[0m     outputs \u001b[39m=\u001b[39m execute\u001b[39m.\u001b[39;49mexecute(\n\u001b[1;32m    382\u001b[0m         \u001b[39mstr\u001b[39;49m(\u001b[39mself\u001b[39;49m\u001b[39m.\u001b[39;49msignature\u001b[39m.\u001b[39;49mname),\n\u001b[1;32m    383\u001b[0m         num_outputs\u001b[39m=\u001b[39;49m\u001b[39mself\u001b[39;49m\u001b[39m.\u001b[39;49m_num_outputs,\n\u001b[1;32m    384\u001b[0m         inputs\u001b[39m=\u001b[39;49margs,\n\u001b[1;32m    385\u001b[0m         attrs\u001b[39m=\u001b[39;49mattrs,\n\u001b[1;32m    386\u001b[0m         ctx\u001b[39m=\u001b[39;49mctx)\n\u001b[1;32m    387\u001b[0m   \u001b[39melse\u001b[39;00m:\n\u001b[1;32m    388\u001b[0m     outputs \u001b[39m=\u001b[39m execute\u001b[39m.\u001b[39mexecute_with_cancellation(\n\u001b[1;32m    389\u001b[0m         \u001b[39mstr\u001b[39m(\u001b[39mself\u001b[39m\u001b[39m.\u001b[39msignature\u001b[39m.\u001b[39mname),\n\u001b[1;32m    390\u001b[0m         num_outputs\u001b[39m=\u001b[39m\u001b[39mself\u001b[39m\u001b[39m.\u001b[39m_num_outputs,\n\u001b[0;32m   (...)\u001b[0m\n\u001b[1;32m    393\u001b[0m         ctx\u001b[39m=\u001b[39mctx,\n\u001b[1;32m    394\u001b[0m         cancellation_manager\u001b[39m=\u001b[39mcancellation_manager)\n",
      "File \u001b[0;32m~/.local/lib/python3.10/site-packages/tensorflow/python/eager/execute.py:52\u001b[0m, in \u001b[0;36mquick_execute\u001b[0;34m(op_name, num_outputs, inputs, attrs, ctx, name)\u001b[0m\n\u001b[1;32m     50\u001b[0m \u001b[39mtry\u001b[39;00m:\n\u001b[1;32m     51\u001b[0m   ctx\u001b[39m.\u001b[39mensure_initialized()\n\u001b[0;32m---> 52\u001b[0m   tensors \u001b[39m=\u001b[39m pywrap_tfe\u001b[39m.\u001b[39;49mTFE_Py_Execute(ctx\u001b[39m.\u001b[39;49m_handle, device_name, op_name,\n\u001b[1;32m     53\u001b[0m                                       inputs, attrs, num_outputs)\n\u001b[1;32m     54\u001b[0m \u001b[39mexcept\u001b[39;00m core\u001b[39m.\u001b[39m_NotOkStatusException \u001b[39mas\u001b[39;00m e:\n\u001b[1;32m     55\u001b[0m   \u001b[39mif\u001b[39;00m name \u001b[39mis\u001b[39;00m \u001b[39mnot\u001b[39;00m \u001b[39mNone\u001b[39;00m:\n",
      "\u001b[0;31mKeyboardInterrupt\u001b[0m: "
     ]
    }
   ],
   "source": [
    "import numpy as np\n",
    "from sklearn.utils import resample\n",
    "\n",
    "# Função para calcular a acurácia do modelo\n",
    "def calculate_accuracy(model, X, y):\n",
    "    y_pred = model.predict(X)\n",
    "    y_pred_classes = y_pred.argmax(axis=1)\n",
    "    accuracy = np.mean(y_pred_classes == y)\n",
    "    return accuracy\n",
    "\n",
    "def intervalo_de_confianca_keras(model, X_test, y_test):\n",
    "    n_bootstrap_samples = 1000\n",
    "    accuracies = []\n",
    "    for i in range(n_bootstrap_samples):\n",
    "        X_boot, y_boot = resample(X_test, y_test)\n",
    "        accuracy = calculate_accuracy(model, X_boot, y_boot)\n",
    "        accuracies.append(accuracy)\n",
    "\n",
    "    mean_accuracy = np.mean(accuracies)\n",
    "    std_accuracy = np.std(accuracies)\n",
    "    confidence_interval = [mean_accuracy - 1.96 * (std_accuracy / np.sqrt(15)), mean_accuracy + 1.96 * (std_accuracy / np.sqrt(15))]\n",
    "    \n",
    "    print('Intervalo de confiança de 95%: {}'.format(confidence_interval))\n",
    "    return mean_accuracy, std_accuracy,confidence_interval\n",
    "\n",
    "cnn_mean_accuracy,cnn_std_accuracy,cnn_confidence_interval = intervalo_de_confianca_keras(model, X_test, y_test)\n"
   ]
  },
  {
   "cell_type": "code",
   "execution_count": 80,
   "metadata": {},
   "outputs": [
    {
     "name": "stdout",
     "output_type": "stream",
     "text": [
      "1/1 [==============================] - 0s 34ms/step\n",
      "Predição:  J.Phys.Conf.Ser.\n",
      "Tempo de inferência: 0.0819 segundos\n"
     ]
    }
   ],
   "source": [
    "# test the model with the input 'title_abstract'\n",
    "\n",
    "start_time = time.time()\n",
    "resposta=model.predict([title_abstract])\n",
    "\n",
    "end_time = time.time()\n",
    "\n",
    "# Calcular o tempo de inferência em segundos\n",
    "cnn_tempo_de_inferencia = end_time - start_time\n",
    "print(\"Predição: \", label_encoder.inverse_transform(resposta.argmax(axis=1))[0])\n",
    "print(\"Tempo de inferência: {:.4f} segundos\".format(cnn_tempo_de_inferencia))"
   ]
  },
  {
   "attachments": {},
   "cell_type": "markdown",
   "metadata": {},
   "source": [
    "## CNN with Bert Model"
   ]
  },
  {
   "cell_type": "code",
   "execution_count": 66,
   "metadata": {},
   "outputs": [],
   "source": [
    "from transformers import TFBertModel, BertTokenizer\n"
   ]
  },
  {
   "cell_type": "code",
   "execution_count": 199,
   "metadata": {},
   "outputs": [
    {
     "name": "stderr",
     "output_type": "stream",
     "text": [
      "2023-06-04 20:54:14.621889: W tensorflow/tsl/framework/cpu_allocator_impl.cc:83] Allocation of 93763584 exceeds 10% of free system memory.\n",
      "2023-06-04 20:54:15.151996: W tensorflow/tsl/framework/cpu_allocator_impl.cc:83] Allocation of 93763584 exceeds 10% of free system memory.\n",
      "2023-06-04 20:54:16.211648: W tensorflow/tsl/framework/cpu_allocator_impl.cc:83] Allocation of 93763584 exceeds 10% of free system memory.\n"
     ]
    }
   ],
   "source": [
    "from transformers import BertTokenizer, TFBertModel\n",
    "from sklearn.preprocessing import LabelEncoder\n",
    "from sklearn.model_selection import train_test_split\n",
    "from sklearn.metrics import classification_report\n",
    "import tensorflow as tf\n",
    "from keras.models import Model\n",
    "from keras.layers import Dense, Input, GlobalAveragePooling1D\n",
    "\n",
    "def train_cnn_bert(df):\n",
    "    # Pré-processamento\n",
    "    X = df['title_abstract'].values\n",
    "    y = df['Group'].values\n",
    "\n",
    "    # Codificar as classes em números\n",
    "    label_encoder = LabelEncoder()\n",
    "    y = label_encoder.fit_transform(y)\n",
    "\n",
    "    # Divisão em treino e teste\n",
    "    X_train, X_test, y_train, y_test = train_test_split(X, y, test_size=0.2, random_state=42)\n",
    "\n",
    "    num_classes = len(label_encoder.classes_)\n",
    "    vocab_size = 1000\n",
    "    # Load the pre-trained BERT model\n",
    "    tokenizer = BertTokenizer.from_pretrained('bert-base-uncased')\n",
    "    bert_model = TFBertModel.from_pretrained('bert-base-uncased')\n",
    "\n",
    "    # Preprocess the text data\n",
    "    max_length = 512\n",
    "\n",
    "    def preprocess_text(text):\n",
    "        tokens = tokenizer.encode_plus(text, add_special_tokens=True, max_length=max_length, truncation=True, padding='max_length', return_tensors='tf')\n",
    "        return tokens.input_ids, tokens.attention_mask\n",
    "\n",
    "    X_train = [preprocess_text(text) for text in X_train]\n",
    "    X_test = [preprocess_text(text) for text in X_test]\n",
    "\n",
    "    # Prepare the input tensors\n",
    "    input_ids_train = tf.concat([item[0] for item in X_train], axis=0)[:50]\n",
    "    attention_masks_train = tf.concat([item[1] for item in X_train], axis=0)\n",
    "\n",
    "    input_ids_test = tf.concat([item[0] for item in X_test], axis=0)\n",
    "    attention_masks_test = tf.concat([item[1] for item in X_test], axis=0)\n",
    "\n",
    "    # Embed the text using BERT\n",
    "    train_outputs = bert_model([input_ids_train, attention_masks_train])\n",
    "    train_embeddings = train_outputs.pooler_output\n",
    "\n",
    "    test_outputs = bert_model([input_ids_test, attention_masks_test])\n",
    "    test_embeddings = test_outputs.pooler_output\n",
    "\n",
    "    # Build the CNN model\n",
    "    input_shape = train_embeddings.shape[1]\n",
    "    print(input_shape)\n",
    "    cnn_input = Input(shape=(input_shape,))\n",
    "    output = Dense(num_classes, activation='softmax')(cnn_input)\n",
    "\n",
    "    cnn_bert_model = Model(inputs=cnn_input, outputs=output)\n",
    "\n",
    "    # Compile and train the model\n",
    "    batch_size = 32\n",
    "    epochs = 10\n",
    "\n",
    "    cnn_bert_model.compile(loss='sparse_categorical_crossentropy', optimizer='adam', metrics=['accuracy'])\n",
    "    cnn_bert_model.fit(train_embeddings, y_train, batch_size=batch_size, epochs=epochs, validation_data=(test_embeddings, y_test))\n",
    "\n",
    "    # Evaluate the model\n",
    "    y_pred = cnn_bert_model.predict(test_embeddings)\n",
    "    y_pred_classes = y_pred.argmax(axis=1)\n",
    "    y_test_classes = y_test\n",
    "    \n",
    "    joblib.dump(tokenizer, 'tokenizer_cnn_bert.joblib')\n",
    "    \n",
    "    return cnn_bert_model, test_embeddings\n",
    "\n",
    "# pipeline = Pipeline([\n",
    "#     ('meu_vetorizador', BertTokenizer.from_pretrained('bert-base-uncased')),\n",
    "#     ('meu_classificador', TFBertModel.from_pretrained('bert-base-uncased'))\n",
    "\n",
    "\n",
    "cnn_bert_model, test_embeddings=train_cnn_bert(df_arxiv_top30_normalized)\n"
   ]
  },
  {
   "cell_type": "code",
   "execution_count": null,
   "metadata": {},
   "outputs": [
    {
     "name": "stderr",
     "output_type": "stream",
     "text": [
      "WARNING:absl:Found untraced functions such as _update_step_xla while saving (showing 1 of 1). These functions will not be directly callable after loading.\n"
     ]
    },
    {
     "name": "stdout",
     "output_type": "stream",
     "text": [
      "INFO:tensorflow:Assets written to: ./cnn_bert_model/assets\n"
     ]
    },
    {
     "name": "stderr",
     "output_type": "stream",
     "text": [
      "INFO:tensorflow:Assets written to: ./cnn_bert_model/assets\n"
     ]
    }
   ],
   "source": [
    "cnn_bert_model.save('./cnn_bert_model')"
   ]
  },
  {
   "cell_type": "code",
   "execution_count": null,
   "metadata": {},
   "outputs": [
    {
     "ename": "NameError",
     "evalue": "name 'cnn_bert_model' is not defined",
     "output_type": "error",
     "traceback": [
      "\u001b[0;31m---------------------------------------------------------------------------\u001b[0m",
      "\u001b[0;31mNameError\u001b[0m                                 Traceback (most recent call last)",
      "\u001b[1;32m/home/marcelo/Desktop/eletivas/nlp/arxiv-nlp/main.ipynb Cell 37\u001b[0m in \u001b[0;36m1\n\u001b[0;32m----> <a href='vscode-notebook-cell:/home/marcelo/Desktop/eletivas/nlp/arxiv-nlp/main.ipynb#X55sZmlsZQ%3D%3D?line=0'>1</a>\u001b[0m bert_mean_accuracy,bert_std_accuracy,bert_confidence_interval \u001b[39m=\u001b[39m intervalo_de_confianca(cnn_bert_model, test_embeddings, y_test)\n",
      "\u001b[0;31mNameError\u001b[0m: name 'cnn_bert_model' is not defined"
     ]
    }
   ],
   "source": [
    "bert_mean_accuracy,bert_std_accuracy,bert_confidence_interval = intervalo_de_confianca_keras(cnn_bert_model, test_embeddings, y_test)"
   ]
  },
  {
   "attachments": {},
   "cell_type": "markdown",
   "metadata": {},
   "source": [
    "### Rede Pré Treinada"
   ]
  },
  {
   "cell_type": "code",
   "execution_count": 27,
   "metadata": {},
   "outputs": [
    {
     "name": "stderr",
     "output_type": "stream",
     "text": [
      "2023-06-05 20:00:24.631149: I tensorflow/core/platform/cpu_feature_guard.cc:182] This TensorFlow binary is optimized to use available CPU instructions in performance-critical operations.\n",
      "To enable the following instructions: AVX2 FMA, in other operations, rebuild TensorFlow with the appropriate compiler flags.\n",
      "2023-06-05 20:00:29.733451: W tensorflow/compiler/tf2tensorrt/utils/py_utils.cc:38] TF-TRT Warning: Could not find TensorRT\n"
     ]
    }
   ],
   "source": [
    "from transformers import pipeline"
   ]
  },
  {
   "cell_type": "code",
   "execution_count": 28,
   "metadata": {},
   "outputs": [],
   "source": [
    "classifier = pipeline(\"zero-shot-classification\",\n",
    "                      model=\"facebook/bart-large-mnli\")"
   ]
  },
  {
   "cell_type": "code",
   "execution_count": 29,
   "metadata": {},
   "outputs": [
    {
     "name": "stderr",
     "output_type": "stream",
     "text": [
      "The `multi_class` argument has been deprecated and renamed to `multi_label`. `multi_class` will be removed in a future version of Transformers.\n"
     ]
    }
   ],
   "source": [
    "def predict_df_bert(length = None):\n",
    "    classification_results = []\n",
    "    if length is None:\n",
    "        length = len(df_arxiv_top30_normalized)\n",
    "    new_df = df_arxiv_top30_normalized[:length]\n",
    "    for index, row in new_df.iterrows():\n",
    "        result = classifier(row['title_abstract'], classes, multi_class=True)\n",
    "        score = result.get('scores')\n",
    "        label = result.get('labels')\n",
    "\n",
    "        if score[0] > score[1]:\n",
    "            classification = label[0]\n",
    "        else:\n",
    "            classification = label[1]\n",
    "\n",
    "        classification_results.append(classification)\n",
    "    return classification_results\n",
    "\n",
    "classification_results = predict_df_bert(length = 1)"
   ]
  },
  {
   "cell_type": "code",
   "execution_count": 30,
   "metadata": {},
   "outputs": [
    {
     "name": "stderr",
     "output_type": "stream",
     "text": [
      "The `multi_class` argument has been deprecated and renamed to `multi_label`. `multi_class` will be removed in a future version of Transformers.\n",
      "The `multi_class` argument has been deprecated and renamed to `multi_label`. `multi_class` will be removed in a future version of Transformers.\n",
      "The `multi_class` argument has been deprecated and renamed to `multi_label`. `multi_class` will be removed in a future version of Transformers.\n",
      "The `multi_class` argument has been deprecated and renamed to `multi_label`. `multi_class` will be removed in a future version of Transformers.\n",
      "The `multi_class` argument has been deprecated and renamed to `multi_label`. `multi_class` will be removed in a future version of Transformers.\n",
      "The `multi_class` argument has been deprecated and renamed to `multi_label`. `multi_class` will be removed in a future version of Transformers.\n"
     ]
    },
    {
     "ename": "KeyboardInterrupt",
     "evalue": "",
     "output_type": "error",
     "traceback": [
      "\u001b[0;31m---------------------------------------------------------------------------\u001b[0m",
      "\u001b[0;31mKeyboardInterrupt\u001b[0m                         Traceback (most recent call last)",
      "\u001b[1;32m/home/marcelo/Desktop/eletivas/nlp/arxiv-nlp/main.ipynb Cell 44\u001b[0m in \u001b[0;36m4\n\u001b[1;32m      <a href='vscode-notebook-cell:/home/marcelo/Desktop/eletivas/nlp/arxiv-nlp/main.ipynb#X61sZmlsZQ%3D%3D?line=1'>2</a>\u001b[0m accuracy \u001b[39m=\u001b[39m np\u001b[39m.\u001b[39mmean(classification_results \u001b[39m==\u001b[39m df_arxiv_top30_normalized[\u001b[39m'\u001b[39m\u001b[39mGroup\u001b[39m\u001b[39m'\u001b[39m][:\u001b[39mlen\u001b[39m(classification_results)]\u001b[39m.\u001b[39mvalues)\n\u001b[1;32m      <a href='vscode-notebook-cell:/home/marcelo/Desktop/eletivas/nlp/arxiv-nlp/main.ipynb#X61sZmlsZQ%3D%3D?line=2'>3</a>\u001b[0m \u001b[39mfor\u001b[39;00m samples \u001b[39min\u001b[39;00m \u001b[39mrange\u001b[39m(\u001b[39m3\u001b[39m):\n\u001b[0;32m----> <a href='vscode-notebook-cell:/home/marcelo/Desktop/eletivas/nlp/arxiv-nlp/main.ipynb#X61sZmlsZQ%3D%3D?line=3'>4</a>\u001b[0m     classification_results \u001b[39m=\u001b[39m predict_df_bert()\n\u001b[1;32m      <a href='vscode-notebook-cell:/home/marcelo/Desktop/eletivas/nlp/arxiv-nlp/main.ipynb#X61sZmlsZQ%3D%3D?line=4'>5</a>\u001b[0m     accuracy \u001b[39m=\u001b[39m np\u001b[39m.\u001b[39mmean(classification_results \u001b[39m==\u001b[39m df_arxiv_top30_normalized[\u001b[39m'\u001b[39m\u001b[39mGroup\u001b[39m\u001b[39m'\u001b[39m][:\u001b[39mlen\u001b[39m(classification_results)]\u001b[39m.\u001b[39mvalues)\n\u001b[1;32m      <a href='vscode-notebook-cell:/home/marcelo/Desktop/eletivas/nlp/arxiv-nlp/main.ipynb#X61sZmlsZQ%3D%3D?line=5'>6</a>\u001b[0m     accuracies\u001b[39m.\u001b[39mappend(accuracy)\n",
      "\u001b[1;32m/home/marcelo/Desktop/eletivas/nlp/arxiv-nlp/main.ipynb Cell 44\u001b[0m in \u001b[0;36m7\n\u001b[1;32m      <a href='vscode-notebook-cell:/home/marcelo/Desktop/eletivas/nlp/arxiv-nlp/main.ipynb#X61sZmlsZQ%3D%3D?line=4'>5</a>\u001b[0m new_df \u001b[39m=\u001b[39m df_arxiv_top30_normalized[:length]\n\u001b[1;32m      <a href='vscode-notebook-cell:/home/marcelo/Desktop/eletivas/nlp/arxiv-nlp/main.ipynb#X61sZmlsZQ%3D%3D?line=5'>6</a>\u001b[0m \u001b[39mfor\u001b[39;00m index, row \u001b[39min\u001b[39;00m new_df\u001b[39m.\u001b[39miterrows():\n\u001b[0;32m----> <a href='vscode-notebook-cell:/home/marcelo/Desktop/eletivas/nlp/arxiv-nlp/main.ipynb#X61sZmlsZQ%3D%3D?line=6'>7</a>\u001b[0m     result \u001b[39m=\u001b[39m classifier(row[\u001b[39m'\u001b[39;49m\u001b[39mtitle_abstract\u001b[39;49m\u001b[39m'\u001b[39;49m], classes, multi_class\u001b[39m=\u001b[39;49m\u001b[39mTrue\u001b[39;49;00m)\n\u001b[1;32m      <a href='vscode-notebook-cell:/home/marcelo/Desktop/eletivas/nlp/arxiv-nlp/main.ipynb#X61sZmlsZQ%3D%3D?line=7'>8</a>\u001b[0m     score \u001b[39m=\u001b[39m result\u001b[39m.\u001b[39mget(\u001b[39m'\u001b[39m\u001b[39mscores\u001b[39m\u001b[39m'\u001b[39m)\n\u001b[1;32m      <a href='vscode-notebook-cell:/home/marcelo/Desktop/eletivas/nlp/arxiv-nlp/main.ipynb#X61sZmlsZQ%3D%3D?line=8'>9</a>\u001b[0m     label \u001b[39m=\u001b[39m result\u001b[39m.\u001b[39mget(\u001b[39m'\u001b[39m\u001b[39mlabels\u001b[39m\u001b[39m'\u001b[39m)\n",
      "File \u001b[0;32m~/.local/lib/python3.10/site-packages/transformers/pipelines/zero_shot_classification.py:205\u001b[0m, in \u001b[0;36mZeroShotClassificationPipeline.__call__\u001b[0;34m(self, sequences, *args, **kwargs)\u001b[0m\n\u001b[1;32m    202\u001b[0m \u001b[39melse\u001b[39;00m:\n\u001b[1;32m    203\u001b[0m     \u001b[39mraise\u001b[39;00m \u001b[39mValueError\u001b[39;00m(\u001b[39mf\u001b[39m\u001b[39m\"\u001b[39m\u001b[39mUnable to understand extra arguments \u001b[39m\u001b[39m{\u001b[39;00margs\u001b[39m}\u001b[39;00m\u001b[39m\"\u001b[39m)\n\u001b[0;32m--> 205\u001b[0m \u001b[39mreturn\u001b[39;00m \u001b[39msuper\u001b[39;49m()\u001b[39m.\u001b[39;49m\u001b[39m__call__\u001b[39;49m(sequences, \u001b[39m*\u001b[39;49m\u001b[39m*\u001b[39;49mkwargs)\n",
      "File \u001b[0;32m~/.local/lib/python3.10/site-packages/transformers/pipelines/base.py:1111\u001b[0m, in \u001b[0;36mPipeline.__call__\u001b[0;34m(self, inputs, num_workers, batch_size, *args, **kwargs)\u001b[0m\n\u001b[1;32m   1109\u001b[0m     \u001b[39mreturn\u001b[39;00m \u001b[39mself\u001b[39m\u001b[39m.\u001b[39miterate(inputs, preprocess_params, forward_params, postprocess_params)\n\u001b[1;32m   1110\u001b[0m \u001b[39melif\u001b[39;00m \u001b[39mself\u001b[39m\u001b[39m.\u001b[39mframework \u001b[39m==\u001b[39m \u001b[39m\"\u001b[39m\u001b[39mpt\u001b[39m\u001b[39m\"\u001b[39m \u001b[39mand\u001b[39;00m \u001b[39misinstance\u001b[39m(\u001b[39mself\u001b[39m, ChunkPipeline):\n\u001b[0;32m-> 1111\u001b[0m     \u001b[39mreturn\u001b[39;00m \u001b[39mnext\u001b[39;49m(\n\u001b[1;32m   1112\u001b[0m         \u001b[39miter\u001b[39;49m(\n\u001b[1;32m   1113\u001b[0m             \u001b[39mself\u001b[39;49m\u001b[39m.\u001b[39;49mget_iterator(\n\u001b[1;32m   1114\u001b[0m                 [inputs], num_workers, batch_size, preprocess_params, forward_params, postprocess_params\n\u001b[1;32m   1115\u001b[0m             )\n\u001b[1;32m   1116\u001b[0m         )\n\u001b[1;32m   1117\u001b[0m     )\n\u001b[1;32m   1118\u001b[0m \u001b[39melse\u001b[39;00m:\n\u001b[1;32m   1119\u001b[0m     \u001b[39mreturn\u001b[39;00m \u001b[39mself\u001b[39m\u001b[39m.\u001b[39mrun_single(inputs, preprocess_params, forward_params, postprocess_params)\n",
      "File \u001b[0;32m~/.local/lib/python3.10/site-packages/transformers/pipelines/pt_utils.py:124\u001b[0m, in \u001b[0;36mPipelineIterator.__next__\u001b[0;34m(self)\u001b[0m\n\u001b[1;32m    121\u001b[0m     \u001b[39mreturn\u001b[39;00m \u001b[39mself\u001b[39m\u001b[39m.\u001b[39mloader_batch_item()\n\u001b[1;32m    123\u001b[0m \u001b[39m# We're out of items within a batch\u001b[39;00m\n\u001b[0;32m--> 124\u001b[0m item \u001b[39m=\u001b[39m \u001b[39mnext\u001b[39;49m(\u001b[39mself\u001b[39;49m\u001b[39m.\u001b[39;49miterator)\n\u001b[1;32m    125\u001b[0m processed \u001b[39m=\u001b[39m \u001b[39mself\u001b[39m\u001b[39m.\u001b[39minfer(item, \u001b[39m*\u001b[39m\u001b[39m*\u001b[39m\u001b[39mself\u001b[39m\u001b[39m.\u001b[39mparams)\n\u001b[1;32m    126\u001b[0m \u001b[39m# We now have a batch of \"inferred things\".\u001b[39;00m\n",
      "File \u001b[0;32m~/.local/lib/python3.10/site-packages/transformers/pipelines/pt_utils.py:266\u001b[0m, in \u001b[0;36mPipelinePackIterator.__next__\u001b[0;34m(self)\u001b[0m\n\u001b[1;32m    263\u001b[0m             \u001b[39mreturn\u001b[39;00m accumulator\n\u001b[1;32m    265\u001b[0m \u001b[39mwhile\u001b[39;00m \u001b[39mnot\u001b[39;00m is_last:\n\u001b[0;32m--> 266\u001b[0m     processed \u001b[39m=\u001b[39m \u001b[39mself\u001b[39;49m\u001b[39m.\u001b[39;49minfer(\u001b[39mnext\u001b[39;49m(\u001b[39mself\u001b[39;49m\u001b[39m.\u001b[39;49miterator), \u001b[39m*\u001b[39;49m\u001b[39m*\u001b[39;49m\u001b[39mself\u001b[39;49m\u001b[39m.\u001b[39;49mparams)\n\u001b[1;32m    267\u001b[0m     \u001b[39mif\u001b[39;00m \u001b[39mself\u001b[39m\u001b[39m.\u001b[39mloader_batch_size \u001b[39mis\u001b[39;00m \u001b[39mnot\u001b[39;00m \u001b[39mNone\u001b[39;00m:\n\u001b[1;32m    268\u001b[0m         \u001b[39mif\u001b[39;00m \u001b[39misinstance\u001b[39m(processed, torch\u001b[39m.\u001b[39mTensor):\n",
      "File \u001b[0;32m~/.local/lib/python3.10/site-packages/transformers/pipelines/base.py:1025\u001b[0m, in \u001b[0;36mPipeline.forward\u001b[0;34m(self, model_inputs, **forward_params)\u001b[0m\n\u001b[1;32m   1023\u001b[0m     \u001b[39mwith\u001b[39;00m inference_context():\n\u001b[1;32m   1024\u001b[0m         model_inputs \u001b[39m=\u001b[39m \u001b[39mself\u001b[39m\u001b[39m.\u001b[39m_ensure_tensor_on_device(model_inputs, device\u001b[39m=\u001b[39m\u001b[39mself\u001b[39m\u001b[39m.\u001b[39mdevice)\n\u001b[0;32m-> 1025\u001b[0m         model_outputs \u001b[39m=\u001b[39m \u001b[39mself\u001b[39;49m\u001b[39m.\u001b[39;49m_forward(model_inputs, \u001b[39m*\u001b[39;49m\u001b[39m*\u001b[39;49mforward_params)\n\u001b[1;32m   1026\u001b[0m         model_outputs \u001b[39m=\u001b[39m \u001b[39mself\u001b[39m\u001b[39m.\u001b[39m_ensure_tensor_on_device(model_outputs, device\u001b[39m=\u001b[39mtorch\u001b[39m.\u001b[39mdevice(\u001b[39m\"\u001b[39m\u001b[39mcpu\u001b[39m\u001b[39m\"\u001b[39m))\n\u001b[1;32m   1027\u001b[0m \u001b[39melse\u001b[39;00m:\n",
      "File \u001b[0;32m~/.local/lib/python3.10/site-packages/transformers/pipelines/zero_shot_classification.py:224\u001b[0m, in \u001b[0;36mZeroShotClassificationPipeline._forward\u001b[0;34m(self, inputs)\u001b[0m\n\u001b[1;32m    222\u001b[0m sequence \u001b[39m=\u001b[39m inputs[\u001b[39m\"\u001b[39m\u001b[39msequence\u001b[39m\u001b[39m\"\u001b[39m]\n\u001b[1;32m    223\u001b[0m model_inputs \u001b[39m=\u001b[39m {k: inputs[k] \u001b[39mfor\u001b[39;00m k \u001b[39min\u001b[39;00m \u001b[39mself\u001b[39m\u001b[39m.\u001b[39mtokenizer\u001b[39m.\u001b[39mmodel_input_names}\n\u001b[0;32m--> 224\u001b[0m outputs \u001b[39m=\u001b[39m \u001b[39mself\u001b[39;49m\u001b[39m.\u001b[39;49mmodel(\u001b[39m*\u001b[39;49m\u001b[39m*\u001b[39;49mmodel_inputs)\n\u001b[1;32m    226\u001b[0m model_outputs \u001b[39m=\u001b[39m {\n\u001b[1;32m    227\u001b[0m     \u001b[39m\"\u001b[39m\u001b[39mcandidate_label\u001b[39m\u001b[39m\"\u001b[39m: candidate_label,\n\u001b[1;32m    228\u001b[0m     \u001b[39m\"\u001b[39m\u001b[39msequence\u001b[39m\u001b[39m\"\u001b[39m: sequence,\n\u001b[1;32m    229\u001b[0m     \u001b[39m\"\u001b[39m\u001b[39mis_last\u001b[39m\u001b[39m\"\u001b[39m: inputs[\u001b[39m\"\u001b[39m\u001b[39mis_last\u001b[39m\u001b[39m\"\u001b[39m],\n\u001b[1;32m    230\u001b[0m     \u001b[39m*\u001b[39m\u001b[39m*\u001b[39moutputs,\n\u001b[1;32m    231\u001b[0m }\n\u001b[1;32m    232\u001b[0m \u001b[39mreturn\u001b[39;00m model_outputs\n",
      "File \u001b[0;32m~/.local/lib/python3.10/site-packages/torch/nn/modules/module.py:1501\u001b[0m, in \u001b[0;36mModule._call_impl\u001b[0;34m(self, *args, **kwargs)\u001b[0m\n\u001b[1;32m   1496\u001b[0m \u001b[39m# If we don't have any hooks, we want to skip the rest of the logic in\u001b[39;00m\n\u001b[1;32m   1497\u001b[0m \u001b[39m# this function, and just call forward.\u001b[39;00m\n\u001b[1;32m   1498\u001b[0m \u001b[39mif\u001b[39;00m \u001b[39mnot\u001b[39;00m (\u001b[39mself\u001b[39m\u001b[39m.\u001b[39m_backward_hooks \u001b[39mor\u001b[39;00m \u001b[39mself\u001b[39m\u001b[39m.\u001b[39m_backward_pre_hooks \u001b[39mor\u001b[39;00m \u001b[39mself\u001b[39m\u001b[39m.\u001b[39m_forward_hooks \u001b[39mor\u001b[39;00m \u001b[39mself\u001b[39m\u001b[39m.\u001b[39m_forward_pre_hooks\n\u001b[1;32m   1499\u001b[0m         \u001b[39mor\u001b[39;00m _global_backward_pre_hooks \u001b[39mor\u001b[39;00m _global_backward_hooks\n\u001b[1;32m   1500\u001b[0m         \u001b[39mor\u001b[39;00m _global_forward_hooks \u001b[39mor\u001b[39;00m _global_forward_pre_hooks):\n\u001b[0;32m-> 1501\u001b[0m     \u001b[39mreturn\u001b[39;00m forward_call(\u001b[39m*\u001b[39;49margs, \u001b[39m*\u001b[39;49m\u001b[39m*\u001b[39;49mkwargs)\n\u001b[1;32m   1502\u001b[0m \u001b[39m# Do not call functions when jit is used\u001b[39;00m\n\u001b[1;32m   1503\u001b[0m full_backward_hooks, non_full_backward_hooks \u001b[39m=\u001b[39m [], []\n",
      "File \u001b[0;32m~/.local/lib/python3.10/site-packages/transformers/models/bart/modeling_bart.py:1528\u001b[0m, in \u001b[0;36mBartForSequenceClassification.forward\u001b[0;34m(self, input_ids, attention_mask, decoder_input_ids, decoder_attention_mask, head_mask, decoder_head_mask, cross_attn_head_mask, encoder_outputs, inputs_embeds, decoder_inputs_embeds, labels, use_cache, output_attentions, output_hidden_states, return_dict)\u001b[0m\n\u001b[1;32m   1523\u001b[0m \u001b[39mif\u001b[39;00m input_ids \u001b[39mis\u001b[39;00m \u001b[39mNone\u001b[39;00m \u001b[39mand\u001b[39;00m inputs_embeds \u001b[39mis\u001b[39;00m \u001b[39mnot\u001b[39;00m \u001b[39mNone\u001b[39;00m:\n\u001b[1;32m   1524\u001b[0m     \u001b[39mraise\u001b[39;00m \u001b[39mNotImplementedError\u001b[39;00m(\n\u001b[1;32m   1525\u001b[0m         \u001b[39mf\u001b[39m\u001b[39m\"\u001b[39m\u001b[39mPassing input embeddings is currently not supported for \u001b[39m\u001b[39m{\u001b[39;00m\u001b[39mself\u001b[39m\u001b[39m.\u001b[39m\u001b[39m__class__\u001b[39m\u001b[39m.\u001b[39m\u001b[39m__name__\u001b[39m\u001b[39m}\u001b[39;00m\u001b[39m\"\u001b[39m\n\u001b[1;32m   1526\u001b[0m     )\n\u001b[0;32m-> 1528\u001b[0m outputs \u001b[39m=\u001b[39m \u001b[39mself\u001b[39;49m\u001b[39m.\u001b[39;49mmodel(\n\u001b[1;32m   1529\u001b[0m     input_ids,\n\u001b[1;32m   1530\u001b[0m     attention_mask\u001b[39m=\u001b[39;49mattention_mask,\n\u001b[1;32m   1531\u001b[0m     decoder_input_ids\u001b[39m=\u001b[39;49mdecoder_input_ids,\n\u001b[1;32m   1532\u001b[0m     decoder_attention_mask\u001b[39m=\u001b[39;49mdecoder_attention_mask,\n\u001b[1;32m   1533\u001b[0m     head_mask\u001b[39m=\u001b[39;49mhead_mask,\n\u001b[1;32m   1534\u001b[0m     decoder_head_mask\u001b[39m=\u001b[39;49mdecoder_head_mask,\n\u001b[1;32m   1535\u001b[0m     cross_attn_head_mask\u001b[39m=\u001b[39;49mcross_attn_head_mask,\n\u001b[1;32m   1536\u001b[0m     encoder_outputs\u001b[39m=\u001b[39;49mencoder_outputs,\n\u001b[1;32m   1537\u001b[0m     inputs_embeds\u001b[39m=\u001b[39;49minputs_embeds,\n\u001b[1;32m   1538\u001b[0m     decoder_inputs_embeds\u001b[39m=\u001b[39;49mdecoder_inputs_embeds,\n\u001b[1;32m   1539\u001b[0m     use_cache\u001b[39m=\u001b[39;49muse_cache,\n\u001b[1;32m   1540\u001b[0m     output_attentions\u001b[39m=\u001b[39;49moutput_attentions,\n\u001b[1;32m   1541\u001b[0m     output_hidden_states\u001b[39m=\u001b[39;49moutput_hidden_states,\n\u001b[1;32m   1542\u001b[0m     return_dict\u001b[39m=\u001b[39;49mreturn_dict,\n\u001b[1;32m   1543\u001b[0m )\n\u001b[1;32m   1544\u001b[0m hidden_states \u001b[39m=\u001b[39m outputs[\u001b[39m0\u001b[39m]  \u001b[39m# last hidden state\u001b[39;00m\n\u001b[1;32m   1546\u001b[0m eos_mask \u001b[39m=\u001b[39m input_ids\u001b[39m.\u001b[39meq(\u001b[39mself\u001b[39m\u001b[39m.\u001b[39mconfig\u001b[39m.\u001b[39meos_token_id)\u001b[39m.\u001b[39mto(hidden_states\u001b[39m.\u001b[39mdevice)\n",
      "File \u001b[0;32m~/.local/lib/python3.10/site-packages/torch/nn/modules/module.py:1501\u001b[0m, in \u001b[0;36mModule._call_impl\u001b[0;34m(self, *args, **kwargs)\u001b[0m\n\u001b[1;32m   1496\u001b[0m \u001b[39m# If we don't have any hooks, we want to skip the rest of the logic in\u001b[39;00m\n\u001b[1;32m   1497\u001b[0m \u001b[39m# this function, and just call forward.\u001b[39;00m\n\u001b[1;32m   1498\u001b[0m \u001b[39mif\u001b[39;00m \u001b[39mnot\u001b[39;00m (\u001b[39mself\u001b[39m\u001b[39m.\u001b[39m_backward_hooks \u001b[39mor\u001b[39;00m \u001b[39mself\u001b[39m\u001b[39m.\u001b[39m_backward_pre_hooks \u001b[39mor\u001b[39;00m \u001b[39mself\u001b[39m\u001b[39m.\u001b[39m_forward_hooks \u001b[39mor\u001b[39;00m \u001b[39mself\u001b[39m\u001b[39m.\u001b[39m_forward_pre_hooks\n\u001b[1;32m   1499\u001b[0m         \u001b[39mor\u001b[39;00m _global_backward_pre_hooks \u001b[39mor\u001b[39;00m _global_backward_hooks\n\u001b[1;32m   1500\u001b[0m         \u001b[39mor\u001b[39;00m _global_forward_hooks \u001b[39mor\u001b[39;00m _global_forward_pre_hooks):\n\u001b[0;32m-> 1501\u001b[0m     \u001b[39mreturn\u001b[39;00m forward_call(\u001b[39m*\u001b[39;49margs, \u001b[39m*\u001b[39;49m\u001b[39m*\u001b[39;49mkwargs)\n\u001b[1;32m   1502\u001b[0m \u001b[39m# Do not call functions when jit is used\u001b[39;00m\n\u001b[1;32m   1503\u001b[0m full_backward_hooks, non_full_backward_hooks \u001b[39m=\u001b[39m [], []\n",
      "File \u001b[0;32m~/.local/lib/python3.10/site-packages/transformers/models/bart/modeling_bart.py:1242\u001b[0m, in \u001b[0;36mBartModel.forward\u001b[0;34m(self, input_ids, attention_mask, decoder_input_ids, decoder_attention_mask, head_mask, decoder_head_mask, cross_attn_head_mask, encoder_outputs, past_key_values, inputs_embeds, decoder_inputs_embeds, use_cache, output_attentions, output_hidden_states, return_dict)\u001b[0m\n\u001b[1;32m   1239\u001b[0m return_dict \u001b[39m=\u001b[39m return_dict \u001b[39mif\u001b[39;00m return_dict \u001b[39mis\u001b[39;00m \u001b[39mnot\u001b[39;00m \u001b[39mNone\u001b[39;00m \u001b[39melse\u001b[39;00m \u001b[39mself\u001b[39m\u001b[39m.\u001b[39mconfig\u001b[39m.\u001b[39muse_return_dict\n\u001b[1;32m   1241\u001b[0m \u001b[39mif\u001b[39;00m encoder_outputs \u001b[39mis\u001b[39;00m \u001b[39mNone\u001b[39;00m:\n\u001b[0;32m-> 1242\u001b[0m     encoder_outputs \u001b[39m=\u001b[39m \u001b[39mself\u001b[39;49m\u001b[39m.\u001b[39;49mencoder(\n\u001b[1;32m   1243\u001b[0m         input_ids\u001b[39m=\u001b[39;49minput_ids,\n\u001b[1;32m   1244\u001b[0m         attention_mask\u001b[39m=\u001b[39;49mattention_mask,\n\u001b[1;32m   1245\u001b[0m         head_mask\u001b[39m=\u001b[39;49mhead_mask,\n\u001b[1;32m   1246\u001b[0m         inputs_embeds\u001b[39m=\u001b[39;49minputs_embeds,\n\u001b[1;32m   1247\u001b[0m         output_attentions\u001b[39m=\u001b[39;49moutput_attentions,\n\u001b[1;32m   1248\u001b[0m         output_hidden_states\u001b[39m=\u001b[39;49moutput_hidden_states,\n\u001b[1;32m   1249\u001b[0m         return_dict\u001b[39m=\u001b[39;49mreturn_dict,\n\u001b[1;32m   1250\u001b[0m     )\n\u001b[1;32m   1251\u001b[0m \u001b[39m# If the user passed a tuple for encoder_outputs, we wrap it in a BaseModelOutput when return_dict=True\u001b[39;00m\n\u001b[1;32m   1252\u001b[0m \u001b[39melif\u001b[39;00m return_dict \u001b[39mand\u001b[39;00m \u001b[39mnot\u001b[39;00m \u001b[39misinstance\u001b[39m(encoder_outputs, BaseModelOutput):\n",
      "File \u001b[0;32m~/.local/lib/python3.10/site-packages/torch/nn/modules/module.py:1501\u001b[0m, in \u001b[0;36mModule._call_impl\u001b[0;34m(self, *args, **kwargs)\u001b[0m\n\u001b[1;32m   1496\u001b[0m \u001b[39m# If we don't have any hooks, we want to skip the rest of the logic in\u001b[39;00m\n\u001b[1;32m   1497\u001b[0m \u001b[39m# this function, and just call forward.\u001b[39;00m\n\u001b[1;32m   1498\u001b[0m \u001b[39mif\u001b[39;00m \u001b[39mnot\u001b[39;00m (\u001b[39mself\u001b[39m\u001b[39m.\u001b[39m_backward_hooks \u001b[39mor\u001b[39;00m \u001b[39mself\u001b[39m\u001b[39m.\u001b[39m_backward_pre_hooks \u001b[39mor\u001b[39;00m \u001b[39mself\u001b[39m\u001b[39m.\u001b[39m_forward_hooks \u001b[39mor\u001b[39;00m \u001b[39mself\u001b[39m\u001b[39m.\u001b[39m_forward_pre_hooks\n\u001b[1;32m   1499\u001b[0m         \u001b[39mor\u001b[39;00m _global_backward_pre_hooks \u001b[39mor\u001b[39;00m _global_backward_hooks\n\u001b[1;32m   1500\u001b[0m         \u001b[39mor\u001b[39;00m _global_forward_hooks \u001b[39mor\u001b[39;00m _global_forward_pre_hooks):\n\u001b[0;32m-> 1501\u001b[0m     \u001b[39mreturn\u001b[39;00m forward_call(\u001b[39m*\u001b[39;49margs, \u001b[39m*\u001b[39;49m\u001b[39m*\u001b[39;49mkwargs)\n\u001b[1;32m   1502\u001b[0m \u001b[39m# Do not call functions when jit is used\u001b[39;00m\n\u001b[1;32m   1503\u001b[0m full_backward_hooks, non_full_backward_hooks \u001b[39m=\u001b[39m [], []\n",
      "File \u001b[0;32m~/.local/lib/python3.10/site-packages/transformers/models/bart/modeling_bart.py:858\u001b[0m, in \u001b[0;36mBartEncoder.forward\u001b[0;34m(self, input_ids, attention_mask, head_mask, inputs_embeds, output_attentions, output_hidden_states, return_dict)\u001b[0m\n\u001b[1;32m    851\u001b[0m         layer_outputs \u001b[39m=\u001b[39m torch\u001b[39m.\u001b[39mutils\u001b[39m.\u001b[39mcheckpoint\u001b[39m.\u001b[39mcheckpoint(\n\u001b[1;32m    852\u001b[0m             create_custom_forward(encoder_layer),\n\u001b[1;32m    853\u001b[0m             hidden_states,\n\u001b[1;32m    854\u001b[0m             attention_mask,\n\u001b[1;32m    855\u001b[0m             (head_mask[idx] \u001b[39mif\u001b[39;00m head_mask \u001b[39mis\u001b[39;00m \u001b[39mnot\u001b[39;00m \u001b[39mNone\u001b[39;00m \u001b[39melse\u001b[39;00m \u001b[39mNone\u001b[39;00m),\n\u001b[1;32m    856\u001b[0m         )\n\u001b[1;32m    857\u001b[0m     \u001b[39melse\u001b[39;00m:\n\u001b[0;32m--> 858\u001b[0m         layer_outputs \u001b[39m=\u001b[39m encoder_layer(\n\u001b[1;32m    859\u001b[0m             hidden_states,\n\u001b[1;32m    860\u001b[0m             attention_mask,\n\u001b[1;32m    861\u001b[0m             layer_head_mask\u001b[39m=\u001b[39;49m(head_mask[idx] \u001b[39mif\u001b[39;49;00m head_mask \u001b[39mis\u001b[39;49;00m \u001b[39mnot\u001b[39;49;00m \u001b[39mNone\u001b[39;49;00m \u001b[39melse\u001b[39;49;00m \u001b[39mNone\u001b[39;49;00m),\n\u001b[1;32m    862\u001b[0m             output_attentions\u001b[39m=\u001b[39;49moutput_attentions,\n\u001b[1;32m    863\u001b[0m         )\n\u001b[1;32m    865\u001b[0m     hidden_states \u001b[39m=\u001b[39m layer_outputs[\u001b[39m0\u001b[39m]\n\u001b[1;32m    867\u001b[0m \u001b[39mif\u001b[39;00m output_attentions:\n",
      "File \u001b[0;32m~/.local/lib/python3.10/site-packages/torch/nn/modules/module.py:1501\u001b[0m, in \u001b[0;36mModule._call_impl\u001b[0;34m(self, *args, **kwargs)\u001b[0m\n\u001b[1;32m   1496\u001b[0m \u001b[39m# If we don't have any hooks, we want to skip the rest of the logic in\u001b[39;00m\n\u001b[1;32m   1497\u001b[0m \u001b[39m# this function, and just call forward.\u001b[39;00m\n\u001b[1;32m   1498\u001b[0m \u001b[39mif\u001b[39;00m \u001b[39mnot\u001b[39;00m (\u001b[39mself\u001b[39m\u001b[39m.\u001b[39m_backward_hooks \u001b[39mor\u001b[39;00m \u001b[39mself\u001b[39m\u001b[39m.\u001b[39m_backward_pre_hooks \u001b[39mor\u001b[39;00m \u001b[39mself\u001b[39m\u001b[39m.\u001b[39m_forward_hooks \u001b[39mor\u001b[39;00m \u001b[39mself\u001b[39m\u001b[39m.\u001b[39m_forward_pre_hooks\n\u001b[1;32m   1499\u001b[0m         \u001b[39mor\u001b[39;00m _global_backward_pre_hooks \u001b[39mor\u001b[39;00m _global_backward_hooks\n\u001b[1;32m   1500\u001b[0m         \u001b[39mor\u001b[39;00m _global_forward_hooks \u001b[39mor\u001b[39;00m _global_forward_pre_hooks):\n\u001b[0;32m-> 1501\u001b[0m     \u001b[39mreturn\u001b[39;00m forward_call(\u001b[39m*\u001b[39;49margs, \u001b[39m*\u001b[39;49m\u001b[39m*\u001b[39;49mkwargs)\n\u001b[1;32m   1502\u001b[0m \u001b[39m# Do not call functions when jit is used\u001b[39;00m\n\u001b[1;32m   1503\u001b[0m full_backward_hooks, non_full_backward_hooks \u001b[39m=\u001b[39m [], []\n",
      "File \u001b[0;32m~/.local/lib/python3.10/site-packages/transformers/models/bart/modeling_bart.py:333\u001b[0m, in \u001b[0;36mBartEncoderLayer.forward\u001b[0;34m(self, hidden_states, attention_mask, layer_head_mask, output_attentions)\u001b[0m\n\u001b[1;32m    321\u001b[0m \u001b[39m\"\"\"\u001b[39;00m\n\u001b[1;32m    322\u001b[0m \u001b[39mArgs:\u001b[39;00m\n\u001b[1;32m    323\u001b[0m \u001b[39m    hidden_states (`torch.FloatTensor`): input to the layer of shape `(seq_len, batch, embed_dim)`\u001b[39;00m\n\u001b[0;32m   (...)\u001b[0m\n\u001b[1;32m    330\u001b[0m \u001b[39m        returned tensors for more detail.\u001b[39;00m\n\u001b[1;32m    331\u001b[0m \u001b[39m\"\"\"\u001b[39;00m\n\u001b[1;32m    332\u001b[0m residual \u001b[39m=\u001b[39m hidden_states\n\u001b[0;32m--> 333\u001b[0m hidden_states, attn_weights, _ \u001b[39m=\u001b[39m \u001b[39mself\u001b[39;49m\u001b[39m.\u001b[39;49mself_attn(\n\u001b[1;32m    334\u001b[0m     hidden_states\u001b[39m=\u001b[39;49mhidden_states,\n\u001b[1;32m    335\u001b[0m     attention_mask\u001b[39m=\u001b[39;49mattention_mask,\n\u001b[1;32m    336\u001b[0m     layer_head_mask\u001b[39m=\u001b[39;49mlayer_head_mask,\n\u001b[1;32m    337\u001b[0m     output_attentions\u001b[39m=\u001b[39;49moutput_attentions,\n\u001b[1;32m    338\u001b[0m )\n\u001b[1;32m    339\u001b[0m hidden_states \u001b[39m=\u001b[39m nn\u001b[39m.\u001b[39mfunctional\u001b[39m.\u001b[39mdropout(hidden_states, p\u001b[39m=\u001b[39m\u001b[39mself\u001b[39m\u001b[39m.\u001b[39mdropout, training\u001b[39m=\u001b[39m\u001b[39mself\u001b[39m\u001b[39m.\u001b[39mtraining)\n\u001b[1;32m    340\u001b[0m hidden_states \u001b[39m=\u001b[39m residual \u001b[39m+\u001b[39m hidden_states\n",
      "File \u001b[0;32m~/.local/lib/python3.10/site-packages/torch/nn/modules/module.py:1501\u001b[0m, in \u001b[0;36mModule._call_impl\u001b[0;34m(self, *args, **kwargs)\u001b[0m\n\u001b[1;32m   1496\u001b[0m \u001b[39m# If we don't have any hooks, we want to skip the rest of the logic in\u001b[39;00m\n\u001b[1;32m   1497\u001b[0m \u001b[39m# this function, and just call forward.\u001b[39;00m\n\u001b[1;32m   1498\u001b[0m \u001b[39mif\u001b[39;00m \u001b[39mnot\u001b[39;00m (\u001b[39mself\u001b[39m\u001b[39m.\u001b[39m_backward_hooks \u001b[39mor\u001b[39;00m \u001b[39mself\u001b[39m\u001b[39m.\u001b[39m_backward_pre_hooks \u001b[39mor\u001b[39;00m \u001b[39mself\u001b[39m\u001b[39m.\u001b[39m_forward_hooks \u001b[39mor\u001b[39;00m \u001b[39mself\u001b[39m\u001b[39m.\u001b[39m_forward_pre_hooks\n\u001b[1;32m   1499\u001b[0m         \u001b[39mor\u001b[39;00m _global_backward_pre_hooks \u001b[39mor\u001b[39;00m _global_backward_hooks\n\u001b[1;32m   1500\u001b[0m         \u001b[39mor\u001b[39;00m _global_forward_hooks \u001b[39mor\u001b[39;00m _global_forward_pre_hooks):\n\u001b[0;32m-> 1501\u001b[0m     \u001b[39mreturn\u001b[39;00m forward_call(\u001b[39m*\u001b[39;49margs, \u001b[39m*\u001b[39;49m\u001b[39m*\u001b[39;49mkwargs)\n\u001b[1;32m   1502\u001b[0m \u001b[39m# Do not call functions when jit is used\u001b[39;00m\n\u001b[1;32m   1503\u001b[0m full_backward_hooks, non_full_backward_hooks \u001b[39m=\u001b[39m [], []\n",
      "File \u001b[0;32m~/.local/lib/python3.10/site-packages/transformers/models/bart/modeling_bart.py:219\u001b[0m, in \u001b[0;36mBartAttention.forward\u001b[0;34m(self, hidden_states, key_value_states, past_key_value, attention_mask, layer_head_mask, output_attentions)\u001b[0m\n\u001b[1;32m    216\u001b[0m     value_states \u001b[39m=\u001b[39m torch\u001b[39m.\u001b[39mcat([past_key_value[\u001b[39m1\u001b[39m], value_states], dim\u001b[39m=\u001b[39m\u001b[39m2\u001b[39m)\n\u001b[1;32m    217\u001b[0m \u001b[39melse\u001b[39;00m:\n\u001b[1;32m    218\u001b[0m     \u001b[39m# self_attention\u001b[39;00m\n\u001b[0;32m--> 219\u001b[0m     key_states \u001b[39m=\u001b[39m \u001b[39mself\u001b[39m\u001b[39m.\u001b[39m_shape(\u001b[39mself\u001b[39;49m\u001b[39m.\u001b[39;49mk_proj(hidden_states), \u001b[39m-\u001b[39m\u001b[39m1\u001b[39m, bsz)\n\u001b[1;32m    220\u001b[0m     value_states \u001b[39m=\u001b[39m \u001b[39mself\u001b[39m\u001b[39m.\u001b[39m_shape(\u001b[39mself\u001b[39m\u001b[39m.\u001b[39mv_proj(hidden_states), \u001b[39m-\u001b[39m\u001b[39m1\u001b[39m, bsz)\n\u001b[1;32m    222\u001b[0m \u001b[39mif\u001b[39;00m \u001b[39mself\u001b[39m\u001b[39m.\u001b[39mis_decoder:\n\u001b[1;32m    223\u001b[0m     \u001b[39m# if cross_attention save Tuple(torch.Tensor, torch.Tensor) of all cross attention key/value_states.\u001b[39;00m\n\u001b[1;32m    224\u001b[0m     \u001b[39m# Further calls to cross_attention layer can then reuse all cross-attention\u001b[39;00m\n\u001b[0;32m   (...)\u001b[0m\n\u001b[1;32m    228\u001b[0m     \u001b[39m# can concat previous decoder key/value_states to current projected key/value_states (third \"elif\" case)\u001b[39;00m\n\u001b[1;32m    229\u001b[0m     \u001b[39m# if encoder bi-directional self-attention `past_key_value` is always `None`\u001b[39;00m\n",
      "File \u001b[0;32m~/.local/lib/python3.10/site-packages/torch/nn/modules/module.py:1501\u001b[0m, in \u001b[0;36mModule._call_impl\u001b[0;34m(self, *args, **kwargs)\u001b[0m\n\u001b[1;32m   1496\u001b[0m \u001b[39m# If we don't have any hooks, we want to skip the rest of the logic in\u001b[39;00m\n\u001b[1;32m   1497\u001b[0m \u001b[39m# this function, and just call forward.\u001b[39;00m\n\u001b[1;32m   1498\u001b[0m \u001b[39mif\u001b[39;00m \u001b[39mnot\u001b[39;00m (\u001b[39mself\u001b[39m\u001b[39m.\u001b[39m_backward_hooks \u001b[39mor\u001b[39;00m \u001b[39mself\u001b[39m\u001b[39m.\u001b[39m_backward_pre_hooks \u001b[39mor\u001b[39;00m \u001b[39mself\u001b[39m\u001b[39m.\u001b[39m_forward_hooks \u001b[39mor\u001b[39;00m \u001b[39mself\u001b[39m\u001b[39m.\u001b[39m_forward_pre_hooks\n\u001b[1;32m   1499\u001b[0m         \u001b[39mor\u001b[39;00m _global_backward_pre_hooks \u001b[39mor\u001b[39;00m _global_backward_hooks\n\u001b[1;32m   1500\u001b[0m         \u001b[39mor\u001b[39;00m _global_forward_hooks \u001b[39mor\u001b[39;00m _global_forward_pre_hooks):\n\u001b[0;32m-> 1501\u001b[0m     \u001b[39mreturn\u001b[39;00m forward_call(\u001b[39m*\u001b[39;49margs, \u001b[39m*\u001b[39;49m\u001b[39m*\u001b[39;49mkwargs)\n\u001b[1;32m   1502\u001b[0m \u001b[39m# Do not call functions when jit is used\u001b[39;00m\n\u001b[1;32m   1503\u001b[0m full_backward_hooks, non_full_backward_hooks \u001b[39m=\u001b[39m [], []\n",
      "File \u001b[0;32m~/.local/lib/python3.10/site-packages/torch/nn/modules/linear.py:114\u001b[0m, in \u001b[0;36mLinear.forward\u001b[0;34m(self, input)\u001b[0m\n\u001b[1;32m    113\u001b[0m \u001b[39mdef\u001b[39;00m \u001b[39mforward\u001b[39m(\u001b[39mself\u001b[39m, \u001b[39minput\u001b[39m: Tensor) \u001b[39m-\u001b[39m\u001b[39m>\u001b[39m Tensor:\n\u001b[0;32m--> 114\u001b[0m     \u001b[39mreturn\u001b[39;00m F\u001b[39m.\u001b[39;49mlinear(\u001b[39minput\u001b[39;49m, \u001b[39mself\u001b[39;49m\u001b[39m.\u001b[39;49mweight, \u001b[39mself\u001b[39;49m\u001b[39m.\u001b[39;49mbias)\n",
      "\u001b[0;31mKeyboardInterrupt\u001b[0m: "
     ]
    }
   ],
   "source": [
    "accuracies = []\n",
    "accuracy = np.mean(classification_results == df_arxiv_top30_normalized['Group'][:len(classification_results)].values)\n",
    "for samples in range(3):\n",
    "    classification_results = predict_df_bert()\n",
    "    accuracy = np.mean(classification_results == df_arxiv_top30_normalized['Group'][:len(classification_results)].values)\n",
    "    accuracies.append(accuracy)\n",
    "\n",
    "mean_accuracy = np.mean(accuracies)\n",
    "std_accuracy = np.std(accuracies)\n",
    "confidence_interval = [mean_accuracy - 1.96 * (std_accuracy / np.sqrt(15)), mean_accuracy + 1.96 * (std_accuracy / np.sqrt(15))]\n",
    "print('Intervalo de confiança de 95%: {}'.format(confidence_interval))\n",
    "# write this to a file\n",
    "with open(\"accuracy_bert.txt\", 'w') as file:\n",
    "    file.write(str(mean_accuracy))\n",
    "    file.write('\\n')\n",
    "    file.write(str(std_accuracy))\n",
    "    file.write('\\n')\n",
    "    file.write(str(confidence_interval))"
   ]
  },
  {
   "cell_type": "code",
   "execution_count": null,
   "metadata": {},
   "outputs": [],
   "source": [
    "import numpy as np\n",
    "from scipy import stats\n",
    "\n",
    "# Function to calculate the mean, standard deviation, and confidence interval\n",
    "def calculate_statistics(predictions, actual_results):\n",
    "    # Calculate mean\n",
    "    mean = np.mean(predictions)\n",
    "\n",
    "    # Calculate standard deviation\n",
    "    std = np.std(predictions)\n",
    "\n",
    "    # Calculate confidence interval\n",
    "    confidence_interval = stats.t.interval(0.95, len(predictions) - 1, loc=mean, scale=stats.sem(predictions))\n",
    "\n",
    "    return mean, std, confidence_interval\n"
   ]
  },
  {
   "cell_type": "code",
   "execution_count": 68,
   "metadata": {},
   "outputs": [
    {
     "name": "stderr",
     "output_type": "stream",
     "text": [
      "The `multi_class` argument has been deprecated and renamed to `multi_label`. `multi_class` will be removed in a future version of Transformers.\n"
     ]
    },
    {
     "name": "stdout",
     "output_type": "stream",
     "text": [
      "tempo de inferência:  6.213176727294922\n"
     ]
    }
   ],
   "source": [
    "start = time.time()\n",
    "result = classifier(title_abstract, classes, multi_class=True)\n",
    "end = time.time()\n",
    "bert_tempo_inferencia = end - start\n",
    "print(\"tempo de inferência: \", bert_tempo_inferencia)\n"
   ]
  },
  {
   "cell_type": "code",
   "execution_count": 77,
   "metadata": {},
   "outputs": [
    {
     "data": {
      "image/png": "[encoded data removed]",
      "text/plain": [
       "<Figure size 1000x500 with 1 Axes>"
      ]
     },
     "metadata": {},
     "output_type": "display_data"
    }
   ],
   "source": [
    "plt.figure(figsize=(10, 5))\n",
    "plt.bar(['Naive Bayes', 'CNN', 'Bert'], [naive_bayes_tempo_inferencia, cnn_tempo_de_inferencia, bert_tempo_inferencia])\n",
    "# Adicionar a linha com os mesmos valores\n",
    "plt.plot(['Naive Bayes', 'CNN', 'Bert'], [naive_bayes_tempo_inferencia, cnn_tempo_de_inferencia, bert_tempo_inferencia], color='red', linestyle='dashed', linewidth=3,)\n",
    "plt.ylabel('Tempo de inferência (s)')\n",
    "plt.xlabel('Modelo')\n",
    "plt.title('Tempo de inferência por modelo')\n",
    "plt.show()\n"
   ]
  },
  {
   "cell_type": "code",
   "execution_count": 9,
   "metadata": {},
   "outputs": [
    {
     "name": "stderr",
     "output_type": "stream",
     "text": [
      "2023-06-05 20:35:40.379038: I tensorflow/tsl/cuda/cudart_stub.cc:28] Could not find cuda drivers on your machine, GPU will not be used.\n",
      "2023-06-05 20:35:40.422999: I tensorflow/tsl/cuda/cudart_stub.cc:28] Could not find cuda drivers on your machine, GPU will not be used.\n",
      "2023-06-05 20:35:40.423344: I tensorflow/core/platform/cpu_feature_guard.cc:182] This TensorFlow binary is optimized to use available CPU instructions in performance-critical operations.\n",
      "To enable the following instructions: AVX2 FMA, in other operations, rebuild TensorFlow with the appropriate compiler flags.\n",
      "2023-06-05 20:35:41.315963: W tensorflow/compiler/tf2tensorrt/utils/py_utils.cc:38] TF-TRT Warning: Could not find TensorRT\n"
     ]
    }
   ],
   "source": [
    "from keras.models import load_model\n",
    "from transformers import BertTokenizer, TFBertModel"
   ]
  },
  {
   "cell_type": "code",
   "execution_count": 97,
   "metadata": {},
   "outputs": [],
   "source": [
    "model_naive_bayes = joblib.load(\"nb_classifier.pkl\")\n",
    "model_cnn = load_model(\"./cnn_model\")\n",
    "# model_cnn_bert = load_model(\"./cnn_bert_model\")\n",
    "# label_encoder = joblib.load('./label_encoder.joblib')\n",
    "# tokenizer = joblib.load('./tokenizer_cnn_bert.joblib')"
   ]
  },
  {
   "cell_type": "code",
   "execution_count": 98,
   "metadata": {},
   "outputs": [
    {
     "name": "stdout",
     "output_type": "stream",
     "text": [
      "Accuracy: 0.00%\n",
      "34/37 [==========================>...] - ETA: 0s"
     ]
    },
    {
     "name": "stderr",
     "output_type": "stream",
     "text": [
      "/tmp/ipykernel_13916/1055558237.py:5: FutureWarning: elementwise comparison failed; returning scalar instead, but in the future will perform elementwise comparison\n",
      "  naive_bayes_accuracy = np.mean(y_pred == y_test)\n"
     ]
    },
    {
     "name": "stdout",
     "output_type": "stream",
     "text": [
      "37/37 [==============================] - 0s 3ms/step\n",
      "Accuracy: 0.00%\n"
     ]
    }
   ],
   "source": [
    "#using the X_test and y_test from the train_test_split\n",
    "# check the accuracy of the model\n",
    "# Naive Bayes\n",
    "y_pred = model_naive_bayes.predict(X_test)\n",
    "naive_bayes_accuracy = np.mean(y_pred == y_test)\n",
    "print(\"Accuracy: %.2f%%\" % (naive_bayes_accuracy * 100.0))\n",
    "\n",
    "# CNN\n",
    "y_pred = model_cnn.predict(X_test)\n",
    "y_pred_classes = y_pred.argmax(axis=1)\n",
    "y_pred_classes = label_encoder.inverse_transform(y_pred_classes)\n",
    "y_test_classes = y_test\n",
    "cnn_accuracy = np.mean(y_pred_classes == y_test_classes)\n",
    "print(\"Accuracy: %.2f%%\" % (cnn_accuracy * 100.0))\n"
   ]
  },
  {
   "cell_type": "code",
   "execution_count": 147,
   "metadata": {},
   "outputs": [
    {
     "data": {
      "text/plain": [
       "Text(0.5, 1.0, 'Acurácia por modelo')"
      ]
     },
     "execution_count": 147,
     "metadata": {},
     "output_type": "execute_result"
    },
    {
     "data": {
      "image/png": "[encoded data removed]",
      "text/plain": [
       "<Figure size 1000x500 with 1 Axes>"
      ]
     },
     "metadata": {},
     "output_type": "display_data"
    }
   ],
   "source": [
    "plt.figure(figsize=(10, 5))\n",
    "plt.bar(['Naive Bayes', 'Embedding Softmax', 'Bert + Embedding Softmax', 'Zero-Shot Bart'], [naive_bayes_top_5_accuracy, cnn_top_5_acc, 0.0, 0.0])\n",
    "# Adicionar a linha com os mesmos valores\n",
    "plt.plot(['Naive Bayes', 'Embedding Softmax', 'Bert + Embedding Softmax', 'Zero-Shot Bart'], [naive_bayes_accuracy, cnn_accuracy, 0.0, 0.0], color='red', linestyle='dashed', linewidth=3,)\n",
    "\n",
    "# Adicionar texto explicativo\n",
    "plt.text(0, naive_bayes_top_5_accuracy + 0.01, f'{naive_bayes_top_5_accuracy:.2f}', ha='center', va='bottom')\n",
    "plt.text(1, cnn_top_5_acc + 0.01, f'{cnn_top_5_acc:.2f}', ha='center', va='bottom')\n",
    "plt.text(0, naive_bayes_accuracy - 0.01, f'{naive_bayes_accuracy:.2f}', ha='center', va='top', color='red')\n",
    "plt.text(1, cnn_accuracy - 0.01, f'{cnn_accuracy:.2f}', ha='center', va='top', color='red')\n",
    "\n",
    "# add a legend to the plot\n",
    "plt.legend(['Top 1', 'Top 5'], loc='upper right')\n",
    "plt.ylabel('Acurácia')\n",
    "plt.title('Acurácia por modelo')"
   ]
  },
  {
   "cell_type": "code",
   "execution_count": null,
   "metadata": {},
   "outputs": [],
   "source": []
  }
 ],
 "metadata": {
  "kernelspec": {
   "display_name": "Python 3",
   "language": "python",
   "name": "python3"
  },
  "language_info": {
   "codemirror_mode": {
    "name": "ipython",
    "version": 3
   },
   "file_extension": ".py",
   "mimetype": "text/x-python",
   "name": "python",
   "nbconvert_exporter": "python",
   "pygments_lexer": "ipython3",
   "version": "3.10.6"
  },
  "orig_nbformat": 4
 },
 "nbformat": 4,
 "nbformat_minor": 2
}
